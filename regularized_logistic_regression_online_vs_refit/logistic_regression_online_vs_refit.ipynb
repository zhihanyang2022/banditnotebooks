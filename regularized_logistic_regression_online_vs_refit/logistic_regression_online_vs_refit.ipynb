{
 "cells": [
  {
   "cell_type": "markdown",
   "metadata": {},
   "source": [
    "# Regularized logistic regression (online vs. refit)"
   ]
  },
  {
   "cell_type": "code",
   "execution_count": 1,
   "metadata": {
    "ExecuteTime": {
     "end_time": "2020-12-17T11:58:17.507356Z",
     "start_time": "2020-12-17T11:58:14.855677Z"
    }
   },
   "outputs": [],
   "source": [
    "import json\n",
    "import autograd.numpy as np\n",
    "from autograd import value_and_grad\n",
    "import scipy.optimize as scopt\n",
    "import matplotlib.pyplot as plt\n",
    "from scipy.special import expit\n",
    "from functools import partial\n",
    "from tqdm.notebook import tqdm"
   ]
  },
  {
   "cell_type": "code",
   "execution_count": 2,
   "metadata": {
    "ExecuteTime": {
     "end_time": "2020-12-17T11:58:17.519177Z",
     "start_time": "2020-12-17T11:58:17.510097Z"
    }
   },
   "outputs": [],
   "source": [
    "plt.rcParams.update({\n",
    "    \"text.usetex\": True,\n",
    "    \"font.size\": 15\n",
    "})"
   ]
  },
  {
   "cell_type": "markdown",
   "metadata": {},
   "source": [
    "## Construct a logistic model\n",
    "\n",
    "A map from feature space to $[0, 1]$"
   ]
  },
  {
   "cell_type": "code",
   "execution_count": 3,
   "metadata": {
    "ExecuteTime": {
     "end_time": "2020-12-17T11:58:17.538781Z",
     "start_time": "2020-12-17T11:58:17.532148Z"
    }
   },
   "outputs": [],
   "source": [
    "sigmoid = expit  # whenever I see \"expit\", I wrongly thinks it's the exponential function"
   ]
  },
  {
   "cell_type": "code",
   "execution_count": 4,
   "metadata": {
    "ExecuteTime": {
     "end_time": "2020-12-17T11:58:17.552320Z",
     "start_time": "2020-12-17T11:58:17.545970Z"
    }
   },
   "outputs": [],
   "source": [
    "xs = np.linspace(-2, 2, 100)  # for simplicity, assume the feature space is 1-dimensional"
   ]
  },
  {
   "cell_type": "code",
   "execution_count": 5,
   "metadata": {
    "ExecuteTime": {
     "end_time": "2020-12-17T11:58:17.568480Z",
     "start_time": "2020-12-17T11:58:17.561727Z"
    }
   },
   "outputs": [],
   "source": [
    "true_w = 10"
   ]
  },
  {
   "cell_type": "code",
   "execution_count": 6,
   "metadata": {
    "ExecuteTime": {
     "end_time": "2020-12-17T11:58:17.589622Z",
     "start_time": "2020-12-17T11:58:17.580558Z"
    }
   },
   "outputs": [],
   "source": [
    "ground_truth = sigmoid(true_w * xs)  # ground_truth is an array of probabilities"
   ]
  },
  {
   "cell_type": "code",
   "execution_count": 7,
   "metadata": {
    "ExecuteTime": {
     "end_time": "2020-12-17T11:58:18.922490Z",
     "start_time": "2020-12-17T11:58:17.593600Z"
    }
   },
   "outputs": [
    {
     "data": {
      "image/png": "[encoded data removed]",
      "text/plain": [
       "<Figure size 432x288 with 1 Axes>"
      ]
     },
     "metadata": {
      "needs_background": "light"
     },
     "output_type": "display_data"
    }
   ],
   "source": [
    "plt.plot(xs, ground_truth)\n",
    "plt.xlabel('Feature space')\n",
    "plt.ylabel('Probability of reward')\n",
    "plt.show()"
   ]
  },
  {
   "cell_type": "markdown",
   "metadata": {},
   "source": [
    "## Generate synthetic data from model"
   ]
  },
  {
   "cell_type": "code",
   "execution_count": 8,
   "metadata": {
    "ExecuteTime": {
     "end_time": "2020-12-17T11:58:18.931556Z",
     "start_time": "2020-12-17T11:58:18.926629Z"
    }
   },
   "outputs": [],
   "source": [
    "N = 10000"
   ]
  },
  {
   "cell_type": "code",
   "execution_count": 9,
   "metadata": {
    "ExecuteTime": {
     "end_time": "2020-12-17T11:58:19.323613Z",
     "start_time": "2020-12-17T11:58:18.936516Z"
    }
   },
   "outputs": [],
   "source": [
    "np.random.seed(42)\n",
    "\n",
    "inputs = np.random.uniform(-2, 2, size=(N, ))  # sampling some \"feature 1-d vectors\"\n",
    "\n",
    "targets = []\n",
    "for i in range(N):\n",
    "    p = sigmoid(true_w * inputs[i])\n",
    "    targets.append(np.random.choice([0, 1], p=[1-p, p]))  # sampling corresponding \"rewards\"\n",
    "\n",
    "targets = np.array(targets)"
   ]
  },
  {
   "cell_type": "code",
   "execution_count": 10,
   "metadata": {
    "ExecuteTime": {
     "end_time": "2020-12-17T11:58:19.470725Z",
     "start_time": "2020-12-17T11:58:19.326045Z"
    }
   },
   "outputs": [
    {
     "data": {
      "image/png": "[encoded data removed]",
      "text/plain": [
       "<Figure size 432x288 with 1 Axes>"
      ]
     },
     "metadata": {
      "needs_background": "light"
     },
     "output_type": "display_data"
    }
   ],
   "source": [
    "plt.scatter(inputs, targets, alpha=0.1)\n",
    "plt.show()"
   ]
  },
  {
   "cell_type": "markdown",
   "metadata": {},
   "source": [
    "## Use regularized logistic regression to recover true coefficient value"
   ]
  },
  {
   "cell_type": "markdown",
   "metadata": {},
   "source": [
    "Some code blocks were commented out to prevent accidental re-run. Results have been saved in JSONs for convenience.\n",
    "\n",
    "There are 2 experiments:\n",
    "- $\\lambda=0.01$: just to see whether my implementation is correct, i.e., with such large variance of the prior, we would expect that both online and refit recover the true coefficient without problem; it turns out that refit can do this **but online cannot (which is weird)**\n",
    "- $\\lambda=100$: high regularization; similar observation, i.e., online yields smaller $m$ (mean) and smaller $1/q$ (variance) at any given timestep, compared to refit"
   ]
  },
  {
   "cell_type": "code",
   "execution_count": 11,
   "metadata": {
    "ExecuteTime": {
     "end_time": "2020-12-17T11:58:19.479370Z",
     "start_time": "2020-12-17T11:58:19.474293Z"
    }
   },
   "outputs": [],
   "source": [
    "def log_prob_and_gradient_given_everything(m, q, x, y, w):\n",
    "\n",
    "    # first term of the objective function\n",
    "    c1 = 0.5 * np.sum( q * (w - m) ** 2 )\n",
    "\n",
    "    # second term\n",
    "    c2 = np.sum(np.logaddexp(0, - y * (w * x)))\n",
    "\n",
    "    return c1 + c2"
   ]
  },
  {
   "cell_type": "code",
   "execution_count": 12,
   "metadata": {
    "ExecuteTime": {
     "end_time": "2020-12-17T11:58:19.488275Z",
     "start_time": "2020-12-17T11:58:19.482837Z"
    }
   },
   "outputs": [],
   "source": [
    "# λ = 100\n",
    "\n",
    "# ms = []\n",
    "# qs = []\n",
    "\n",
    "# for i in tqdm(range(N)):\n",
    "    \n",
    "#     w = 0\n",
    "#     m = 0\n",
    "#     q = λ * 1\n",
    "    \n",
    "#     log_prob_and_gradient_w = partial(log_prob_and_gradient_given_everything, m, q, inputs[:i+1], targets[:i+1])\n",
    "#     grad_logpost = value_and_grad(log_prob_and_gradient_w)\n",
    "    \n",
    "#     result = scopt.minimize(grad_logpost, w,\n",
    "#             method='l-bfgs-b', jac=True, options={\n",
    "#             'maxiter': 100, 'disp': False})\n",
    "\n",
    "#     w = float(result.x)\n",
    "    \n",
    "#     m = w\n",
    "    \n",
    "#     p = sigmoid(w * inputs[:i+1])\n",
    "#     q += np.sum((inputs[:i+1] ** 2) * p * (1 - p))\n",
    "    \n",
    "#     ms.append(m)\n",
    "#     qs.append(q)\n",
    "    \n",
    "# ms_refit = np.array(ms)\n",
    "# qs_refit = np.array(qs)"
   ]
  },
  {
   "cell_type": "code",
   "execution_count": 13,
   "metadata": {
    "ExecuteTime": {
     "end_time": "2020-12-17T11:58:19.496369Z",
     "start_time": "2020-12-17T11:58:19.491411Z"
    }
   },
   "outputs": [],
   "source": [
    "# with open('ms_refit.json', 'w+') as json_f:\n",
    "#     json.dump(ms_refit.tolist(), json_f)\n",
    "# with open('qs_refit.json', 'w+') as json_f:\n",
    "#     json.dump(qs_refit.tolist(), json_f)"
   ]
  },
  {
   "cell_type": "code",
   "execution_count": 14,
   "metadata": {
    "ExecuteTime": {
     "end_time": "2020-12-17T11:58:19.527376Z",
     "start_time": "2020-12-17T11:58:19.523527Z"
    }
   },
   "outputs": [],
   "source": [
    "# with open('ms_refit_lambda100.json', 'w+') as json_f:\n",
    "#     json.dump(ms_refit.tolist(), json_f)\n",
    "# with open('qs_refit_lambda100.json', 'w+') as json_f:\n",
    "#     json.dump(qs_refit.tolist(), json_f)"
   ]
  },
  {
   "cell_type": "code",
   "execution_count": 15,
   "metadata": {
    "ExecuteTime": {
     "end_time": "2020-12-17T11:58:19.748958Z",
     "start_time": "2020-12-17T11:58:19.550754Z"
    }
   },
   "outputs": [],
   "source": [
    "with open('ms_refit.json', 'r') as json_f:\n",
    "    ms_refit = np.array(json.load(json_f))\n",
    "with open('qs_refit.json', 'r') as json_f:\n",
    "    qs_refit = np.array(json.load(json_f))\n",
    "    \n",
    "with open('ms_refit_lambda100.json', 'r') as json_f:\n",
    "    ms_refit_lambda100 = np.array(json.load(json_f))\n",
    "with open('qs_refit_lambda100.json', 'r') as json_f:\n",
    "    qs_refit_lambda100 = np.array(json.load(json_f))"
   ]
  },
  {
   "cell_type": "code",
   "execution_count": 16,
   "metadata": {
    "ExecuteTime": {
     "end_time": "2020-12-17T11:58:19.757387Z",
     "start_time": "2020-12-17T11:58:19.751637Z"
    }
   },
   "outputs": [],
   "source": [
    "# λ = 100\n",
    "# w = 0\n",
    "# m = 0\n",
    "# q = λ * 1\n",
    "\n",
    "# ms = []\n",
    "# qs = []\n",
    "\n",
    "# for i in tqdm(range(N)):\n",
    "    \n",
    "#     inp = inputs[i]\n",
    "#     target = targets[i]\n",
    "    \n",
    "#     log_prob_and_gradient_w = partial(log_prob_and_gradient_given_everything, m, q, inp, target)\n",
    "#     grad_logpost = value_and_grad(log_prob_and_gradient_w)\n",
    "    \n",
    "#     result = scopt.minimize(grad_logpost, w,\n",
    "#             method='l-bfgs-b', jac=True, options={\n",
    "#             'maxiter': 100, 'disp': False})\n",
    "\n",
    "#     w = float(result.x)\n",
    "    \n",
    "#     m = w\n",
    "    \n",
    "#     p = sigmoid(w * inp)\n",
    "#     q += np.sum((inp ** 2) * p * (1 - p))\n",
    "    \n",
    "#     ms.append(m)\n",
    "#     qs.append(q)\n",
    "    \n",
    "# ms_online = np.array(ms)\n",
    "# qs_online = np.array(qs)"
   ]
  },
  {
   "cell_type": "code",
   "execution_count": 17,
   "metadata": {
    "ExecuteTime": {
     "end_time": "2020-12-17T11:58:19.764397Z",
     "start_time": "2020-12-17T11:58:19.761449Z"
    }
   },
   "outputs": [],
   "source": [
    "# with open('ms_online.json', 'w+') as json_f:\n",
    "#     json.dump(ms_online.tolist(), json_f)\n",
    "# with open('qs_online.json', 'w+') as json_f:\n",
    "#     json.dump(qs_online.tolist(), json_f)"
   ]
  },
  {
   "cell_type": "code",
   "execution_count": 18,
   "metadata": {
    "ExecuteTime": {
     "end_time": "2020-12-17T11:58:19.772674Z",
     "start_time": "2020-12-17T11:58:19.767029Z"
    }
   },
   "outputs": [],
   "source": [
    "# with open('ms_online_lambda100.json', 'w+') as json_f:\n",
    "#     json.dump(ms_online.tolist(), json_f)\n",
    "# with open('qs_online_lambda100.json', 'w+') as json_f:\n",
    "#     json.dump(qs_online.tolist(), json_f)"
   ]
  },
  {
   "cell_type": "code",
   "execution_count": 19,
   "metadata": {
    "ExecuteTime": {
     "end_time": "2020-12-17T11:58:19.971064Z",
     "start_time": "2020-12-17T11:58:19.775743Z"
    }
   },
   "outputs": [],
   "source": [
    "with open('ms_online.json', 'r') as json_f:\n",
    "    ms_online = np.array(json.load(json_f))\n",
    "with open('qs_online.json', 'r') as json_f:\n",
    "    qs_online = np.array(json.load(json_f))\n",
    "    \n",
    "with open('ms_online_lambda100.json', 'r') as json_f:\n",
    "    ms_online_lambda100 = np.array(json.load(json_f))\n",
    "with open('qs_online_lambda100.json', 'r') as json_f:\n",
    "    qs_online_lambda100 = np.array(json.load(json_f))"
   ]
  },
  {
   "cell_type": "code",
   "execution_count": 20,
   "metadata": {
    "ExecuteTime": {
     "end_time": "2020-12-17T11:58:20.923926Z",
     "start_time": "2020-12-17T11:58:19.973101Z"
    }
   },
   "outputs": [
    {
     "data": {
      "image/png": "[encoded data removed]",
      "text/plain": [
       "<Figure size 1080x540 with 2 Axes>"
      ]
     },
     "metadata": {
      "needs_background": "light"
     },
     "output_type": "display_data"
    }
   ],
   "source": [
    "fig = plt.figure(figsize=(15, 7.5))\n",
    "\n",
    "fig.add_subplot(121)\n",
    "plt.plot(ms_online, label='online')\n",
    "plt.plot(ms_refit, label='refit')\n",
    "plt.axhline(10, linestyle='--', color='red', label='truth')\n",
    "\n",
    "plt.xlabel('Examples seen so far')\n",
    "plt.ylabel('Learned $m$')\n",
    "\n",
    "plt.legend()\n",
    "plt.grid()\n",
    "\n",
    "fig.add_subplot(122)\n",
    "plt.plot(1/qs_online, label='online')\n",
    "plt.plot(1/qs_refit, label='refit')\n",
    "\n",
    "plt.xlabel('Examples seen so far')\n",
    "plt.ylabel('Learned $1/q$')\n",
    "\n",
    "plt.legend()\n",
    "plt.grid()\n",
    "\n",
    "plt.suptitle('$\\lambda=0.01$: just to see whether the implementation is correct')\n",
    "\n",
    "plt.show()"
   ]
  },
  {
   "cell_type": "code",
   "execution_count": 21,
   "metadata": {
    "ExecuteTime": {
     "end_time": "2020-12-17T11:58:21.375277Z",
     "start_time": "2020-12-17T11:58:20.927251Z"
    }
   },
   "outputs": [
    {
     "data": {
      "image/png": "[encoded data removed]",
      "text/plain": [
       "<Figure size 1080x540 with 2 Axes>"
      ]
     },
     "metadata": {
      "needs_background": "light"
     },
     "output_type": "display_data"
    }
   ],
   "source": [
    "fig = plt.figure(figsize=(15, 7.5))\n",
    "\n",
    "fig.add_subplot(121)\n",
    "plt.plot(ms_online_lambda100, label='online')\n",
    "plt.plot(ms_refit_lambda100, label='refit')\n",
    "plt.axhline(10, linestyle='--', color='red', label='truth')\n",
    "\n",
    "plt.xlabel('Examples seen so far')\n",
    "plt.ylabel('Learned $m$')\n",
    "\n",
    "plt.legend()\n",
    "plt.grid()\n",
    "\n",
    "fig.add_subplot(122)\n",
    "plt.plot(1/qs_online_lambda100, label='online')\n",
    "plt.plot(1/qs_refit_lambda100, label='refit')\n",
    "\n",
    "plt.xlabel('Examples seen so far')\n",
    "plt.ylabel('Learned $1/q$')\n",
    "\n",
    "plt.legend()\n",
    "plt.grid()\n",
    "\n",
    "plt.suptitle('$\\lambda=100$: high regularization')\n",
    "\n",
    "plt.show()"
   ]
  }
 ],
 "metadata": {
  "kernelspec": {
   "display_name": "Python 3",
   "language": "python",
   "name": "python3"
  },
  "language_info": {
   "codemirror_mode": {
    "name": "ipython",
    "version": 3
   },
   "file_extension": ".py",
   "mimetype": "text/x-python",
   "name": "python",
   "nbconvert_exporter": "python",
   "pygments_lexer": "ipython3",
   "version": "3.6.9"
  },
  "toc": {
   "base_numbering": 1,
   "nav_menu": {},
   "number_sections": false,
   "sideBar": true,
   "skip_h1_title": false,
   "title_cell": "Table of Contents",
   "title_sidebar": "Contents",
   "toc_cell": false,
   "toc_position": {},
   "toc_section_display": true,
   "toc_window_display": false
  }
 },
 "nbformat": 4,
 "nbformat_minor": 2
}
