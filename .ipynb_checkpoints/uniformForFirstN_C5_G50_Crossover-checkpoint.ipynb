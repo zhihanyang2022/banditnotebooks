{
 "cells": [
  {
   "cell_type": "markdown",
   "metadata": {
    "id": "rY1qA_-Uytoc"
   },
   "source": [
    "# TOP"
   ]
  },
  {
   "cell_type": "code",
   "execution_count": 1,
   "metadata": {
    "colab": {
     "base_uri": "https://localhost:8080/"
    },
    "executionInfo": {
     "elapsed": 285,
     "status": "ok",
     "timestamp": 1604630464268,
     "user": {
      "displayName": "Zhihan Yang",
      "photoUrl": "",
      "userId": "13640957592474416801"
     },
     "user_tz": -480
    },
    "id": "Jk1k1zb84s0w",
    "outputId": "ffb27871-b16a-489b-b98b-99ab06f736e5"
   },
   "outputs": [
    {
     "name": "stdout",
     "output_type": "stream",
     "text": [
      "Helloworld!\n"
     ]
    }
   ],
   "source": [
    "print('Helloworld!')"
   ]
  },
  {
   "cell_type": "code",
   "execution_count": 2,
   "metadata": {
    "executionInfo": {
     "elapsed": 339,
     "status": "ok",
     "timestamp": 1604631013774,
     "user": {
      "displayName": "Zhihan Yang",
      "photoUrl": "",
      "userId": "13640957592474416801"
     },
     "user_tz": -480
    },
    "id": "9x4YE8iczUeM"
   },
   "outputs": [],
   "source": [
    "import matplotlib as mpl\n",
    "# mpl.use('Agg')\n",
    "import matplotlib.pyplot as plt\n",
    "import seaborn as sns\n",
    "import numpy as np\n",
    "import pandas as pd\n",
    "import glob as glob\n",
    "import os\n",
    "import sys\n",
    "import re\n",
    "import itertools\n",
    "from multiprocessing import Pool\n",
    "from functools import partial\n",
    "from tqdm.notebook import tqdm\n",
    "import time\n",
    "import os\n",
    "from scipy.special import expit"
   ]
  },
  {
   "cell_type": "code",
   "execution_count": 3,
   "metadata": {
    "executionInfo": {
     "elapsed": 243,
     "status": "ok",
     "timestamp": 1604631874002,
     "user": {
      "displayName": "Zhihan Yang",
      "photoUrl": "",
      "userId": "13640957592474416801"
     },
     "user_tz": -480
    },
    "id": "l2Da6a0Mf0t1"
   },
   "outputs": [],
   "source": [
    "def read_csv(filename):\n",
    "    'converts a filename to a pandas dataframe'\n",
    "    return pd.read_csv(filename, header=1)"
   ]
  },
  {
   "cell_type": "code",
   "execution_count": 4,
   "metadata": {
    "executionInfo": {
     "elapsed": 426,
     "status": "ok",
     "timestamp": 1604634566107,
     "user": {
      "displayName": "Zhihan Yang",
      "photoUrl": "",
      "userId": "13640957592474416801"
     },
     "user_tz": -480
    },
    "id": "euXWaLA0bhES"
   },
   "outputs": [],
   "source": [
    "class DFReader:\n",
    "\n",
    "    \"\"\"A modified approach to calc_df so that dfs don't have to be read in again and again.\"\"\"\n",
    "\n",
    "    def __init__(self, directory):\n",
    "\n",
    "        print(directory)\n",
    "\n",
    "        start = time.time()\n",
    "        \n",
    "        self.df_contextual_list = []\n",
    "        task_list = glob.glob(os.path.join(directory, 'CompareBanditActionsOut_ModContextual*.csv'))\n",
    "        with Pool(processes=8) as pool:\n",
    "            self.df_contextual_list = pool.map(read_csv, task_list)\n",
    "\n",
    "        # for i, f in tqdm(list(enumerate(task_list)), leave=True, desc='Contextual: ', unit='csv'):\n",
    "        #     self.df_contextual_list.append(pd.io.parsers.read_csv(f, header=1))\n",
    "\n",
    "        self.df_noncontextual_list = []\n",
    "        task_list = glob.glob(os.path.join(directory, 'CompareBanditActionsOut_NonContextual*.csv'))\n",
    "        with Pool(processes=8) as pool:\n",
    "            self.df_noncontextual_list = pool.map(read_csv, task_list)\n",
    "\n",
    "        # self.df_noncontextual_list = []\n",
    "        # for i, f in tqdm(list(enumerate(glob.glob(os.path.join(directory, 'CompareBanditActionsOut_NonContextual*.csv')))), leave=True, desc='Non-contextual: ', unit='csv'):\n",
    "        #     self.df_noncontextual_list.append(pd.io.parsers.read_csv(f, header=1))\n",
    "\n",
    "        end = time.time()\n",
    "\n",
    "        print(f'Took {round(end - start, 2)} seconds.')\n",
    "    \n",
    "    def calc_df(self, calc_func, num_students=None, generate_example_file=False, contextual_only=False, noncontextual_only=False):\n",
    "\n",
    "        if contextual_only and noncontextual_only:\n",
    "            print(\"[Error] Only one of contextual_only and noncontextual_only can be true.\")\n",
    "            return\n",
    "\n",
    "        # ==========\n",
    "\n",
    "        if generate_example_file:\n",
    "            one_unprocessed_df = self.df_contextual_list[0]\n",
    "            return one_unprocessed_df\n",
    "\n",
    "        if num_students is None:\n",
    "            df_contextual_list = [calc_func(df) for df in self.df_contextual_list]\n",
    "        else:\n",
    "            df_contextual_list = [calc_func(df[:num_students]) for df in self.df_contextual_list]\n",
    "        \n",
    "        df_contextual = pd.concat(df_contextual_list)\n",
    "        if contextual_only:  # for coefficient plots\n",
    "            return df_contextual\n",
    "        df_contextual[\"Type\"] = 'Contextual'\n",
    "        \n",
    "        if num_students is None:\n",
    "            df_noncontextual_list = [calc_func(df) for df in self.df_noncontextual_list]\n",
    "        else:\n",
    "            df_noncontextual_list = [calc_func(df[:num_students]) for df in self.df_noncontextual_list]\n",
    "\n",
    "        df_noncontextual = pd.concat(df_noncontextual_list)\n",
    "        if noncontextual_only:\n",
    "            return df_noncontextual\n",
    "        df_noncontextual[\"Type\"] = 'Non Contextual'\n",
    "    \n",
    "        df = pd.concat([df_contextual, df_noncontextual])\n",
    "        \n",
    "        return df"
   ]
  },
  {
   "cell_type": "code",
   "execution_count": null,
   "metadata": {},
   "outputs": [],
   "source": [
    "len(os.listdir('/home/yangz2/disk2/contextualBanditSimsNoEffect/PosterData/C5_G50_Crossover/'))"
   ]
  },
  {
   "cell_type": "code",
   "execution_count": 6,
   "metadata": {
    "colab": {
     "base_uri": "https://localhost:8080/"
    },
    "executionInfo": {
     "elapsed": 11949,
     "status": "ok",
     "timestamp": 1604632052267,
     "user": {
      "displayName": "Zhihan Yang",
      "photoUrl": "",
      "userId": "13640957592474416801"
     },
     "user_tz": -480
    },
    "id": "MkFHP1kHgS60",
    "outputId": "61941b83-222c-41b8-de9a-0832794ba70b"
   },
   "outputs": [
    {
     "name": "stdout",
     "output_type": "stream",
     "text": [
      "/home/yangz2/disk2/contextualBanditSimsNoEffect/PosterData/C5_G50_Crossover/\n",
      "Took 17.77 seconds.\n"
     ]
    }
   ],
   "source": [
    "dfr = DFReader('/home/yangz2/disk2/contextualBanditSimsNoEffect/PosterData/C5_G50_Crossover/')"
   ]
  },
  {
   "cell_type": "code",
   "execution_count": 5,
   "metadata": {
    "executionInfo": {
     "elapsed": 812,
     "status": "ok",
     "timestamp": 1604630466416,
     "user": {
      "displayName": "Zhihan Yang",
      "photoUrl": "",
      "userId": "13640957592474416801"
     },
     "user_tz": -480
    },
    "id": "SsKQBpxN1ni2"
   },
   "outputs": [],
   "source": [
    "def calc_df(directory, calc_func, num_students=None, generate_example_file=False, contextual_only=False):\n",
    "    '''Combine contextual and noncontextual dataframes, calculating the value \n",
    "    (indicated by calc_func) in the process'''\n",
    "\n",
    "    sample_size = sys.maxsize\n",
    "\n",
    "    df_contextual_list = [pd.io.parsers.read_csv(f, header=1) for i, f in \n",
    "                          enumerate(glob.glob(os.path.join(directory, 'CompareBanditActionsOut_ModContextual*.csv'))) if i < sample_size]\n",
    "    df_noncontextual_list = [pd.io.parsers.read_csv(f, header=1) for i, f in \n",
    "                             enumerate(glob.glob(os.path.join(directory, 'CompareBanditActionsOut_NonContextual*.csv'))) if i < sample_size]\n",
    "\n",
    "    if generate_example_file:\n",
    "        one_unprocessed_df = df_contextual_list[0]\n",
    "        return one_unprocessed_df\n",
    "\n",
    "    if len(df_contextual_list) == 0 or len(df_noncontextual_list) == 0:\n",
    "        return None\n",
    "    else:\n",
    "        print(directory)\n",
    "\n",
    "    if num_students is None:\n",
    "        df_contextual_list = [calc_func(df) for df in df_contextual_list]\n",
    "    else:\n",
    "        df_contextual_list = [calc_func(df[:num_students]) for df in df_contextual_list]\n",
    "    \n",
    "    df_contextual = pd.concat(df_contextual_list)\n",
    "    if contextual_only:  # for coefficient plots\n",
    "        return df_contextual\n",
    "    df_contextual[\"Type\"] = 'Contextual'\n",
    "    \n",
    "    if num_students is None:\n",
    "        df_noncontextual_list = [calc_func(df) for df in df_noncontextual_list]\n",
    "    else:\n",
    "        df_noncontextual_list = [calc_func(df[:num_students]) for df in df_noncontextual_list]\n",
    "\n",
    "    df_noncontextual = pd.concat(df_noncontextual_list)\n",
    "    df_noncontextual[\"Type\"] = 'Non Contextual'\n",
    " \n",
    "    df = pd.concat([df_contextual, df_noncontextual])\n",
    "    \n",
    "    return df"
   ]
  },
  {
   "cell_type": "code",
   "execution_count": 8,
   "metadata": {
    "executionInfo": {
     "elapsed": 500,
     "status": "ok",
     "timestamp": 1604630466419,
     "user": {
      "displayName": "Zhihan Yang",
      "photoUrl": "",
      "userId": "13640957592474416801"
     },
     "user_tz": -480
    },
    "id": "2Zbzf0ZRbo2e"
   },
   "outputs": [],
   "source": [
    "def calc_df_scalar(directory, calc_func, num_students=None):\n",
    "    '''Combine contextual and noncontextual dataframes, calculating the value \n",
    "    (indicated by calc_func) in the process'''\n",
    "    sample_size = sys.maxsize\n",
    "    \n",
    "    df_contextual_list = [pd.read_csv(f, header=1) for i, f in \n",
    "                          enumerate(glob.glob(os.path.join(directory, 'CompareBanditActionsOut_ModContextual*.csv'))) if i < sample_size]\n",
    "    df_noncontextual_list = [pd.read_csv(f, header=1) for i, f in \n",
    "                             enumerate(glob.glob(os.path.join(directory, 'CompareBanditActionsOut_NonContextual*.csv'))) if i < sample_size]\n",
    "\n",
    "    if len(df_contextual_list) == 0 or len(df_noncontextual_list) == 0:\n",
    "        return None\n",
    "    else:\n",
    "        print(directory)\n",
    "\n",
    "    if num_students is None:\n",
    "        df_contextual_list = [calc_func(df) for df in df_contextual_list]\n",
    "    else:\n",
    "        df_contextual_list = [calc_func(df[:num_students]) for df in df_contextual_list]\n",
    "    \n",
    "    # df_contextual = pd.concat(df_contextual_list)\n",
    "    # df_contextual[\"Type\"] = 'Contextual'\n",
    "    \n",
    "    if num_students is None:\n",
    "        df_noncontextual_list = [calc_func(df) for df in df_noncontextual_list]\n",
    "    else:\n",
    "        df_noncontextual_list = [calc_func(df[:num_students]) for df in df_noncontextual_list]\n",
    "\n",
    "    # df_noncontextual = pd.concat(df_noncontextual_list)\n",
    "    # df_noncontextual[\"Type\"] = 'Non Contextual'\n",
    " \n",
    "    # df = pd.concat([df_contextual, df_noncontextual])\n",
    "    \n",
    "    return df_contextual_list, df_noncontextual_list"
   ]
  },
  {
   "cell_type": "code",
   "execution_count": 6,
   "metadata": {
    "executionInfo": {
     "elapsed": 467,
     "status": "ok",
     "timestamp": 1604630466660,
     "user": {
      "displayName": "Zhihan Yang",
      "photoUrl": "",
      "userId": "13640957592474416801"
     },
     "user_tz": -480
    },
    "id": "0SOR6fjgbGf2"
   },
   "outputs": [],
   "source": [
    "def calc_df_knn(directory, calc_func, num_students=None):\n",
    "    '''Combine contextual and noncontextual dataframes, calculating the value \n",
    "    (indicated by calc_func) in the process'''\n",
    "    sample_size = sys.maxsize\n",
    "    \n",
    "    df_contextual_list = [pd.read_csv(f, header=1) for i, f in \n",
    "                          enumerate(glob.glob(os.path.join(directory, 'CompareBanditActionsOut_ModContextual*.csv'))) if i < sample_size]\n",
    "    df_noncontextual_list = [pd.read_csv(f) for i, f in \n",
    "                             enumerate(glob.glob(os.path.join(directory, 'CompareBanditActionsOut_knn*.csv'))) if i < sample_size]\n",
    "    \n",
    "    if len(df_contextual_list) == 0 or len(df_noncontextual_list) == 0:\n",
    "        return None\n",
    "    else:\n",
    "        print(directory)\n",
    "\n",
    "    if num_students is None:\n",
    "        df_contextual_list = [calc_func(df) for df in df_contextual_list]\n",
    "    else:\n",
    "        df_contextual_list = [calc_func(df[:num_students]) for df in df_contextual_list]\n",
    "    \n",
    "    df_contextual = pd.concat(df_contextual_list)\n",
    "    df_contextual[\"Type\"] = 'Contextual'\n",
    "    \n",
    "    if num_students is None:\n",
    "        df_noncontextual_list = [calc_func(df) for df in df_noncontextual_list]\n",
    "    else:\n",
    "        df_noncontextual_list = [calc_func(df[:num_students]) for df in df_noncontextual_list]\n",
    "\n",
    "    df_noncontextual = pd.concat(df_noncontextual_list)\n",
    "    df_noncontextual[\"Type\"] = 'knn'\n",
    " \n",
    "    df = pd.concat([df_contextual, df_noncontextual])\n",
    "    \n",
    "    return df"
   ]
  },
  {
   "cell_type": "code",
   "execution_count": 7,
   "metadata": {
    "executionInfo": {
     "elapsed": 402,
     "status": "ok",
     "timestamp": 1604630466954,
     "user": {
      "displayName": "Zhihan Yang",
      "photoUrl": "",
      "userId": "13640957592474416801"
     },
     "user_tz": -480
    },
    "id": "75K9F2E53Hs_"
   },
   "outputs": [],
   "source": [
    "def calc_arm_counts(df, start_range=3/4):\n",
    "    df = df.loc[int(len(df)*start_range):]\n",
    "    df = df[\"AlgorithmAction\"].value_counts(normalize=True)\n",
    "    df = df.rename_axis('Arm').reset_index(name='Frequency')\n",
    "    return df\n",
    "\n",
    "def graph_arm_count_distribution(df):\n",
    "    title = 'Arm Count Normalized Histogram Last Quarter'\n",
    "    g = sns.FacetGrid(data=df, col=\"Arm\", hue='Type')\n",
    "    g = g.map(sns.distplot, \"Frequency\", bins=np.linspace(0, 1, 30), norm_hist=True, kde=False)\n",
    "    g.add_legend()\n",
    "    g.set_ylabels(\"PDF\")\n",
    "    g.savefig(title)"
   ]
  },
  {
   "cell_type": "code",
   "execution_count": 8,
   "metadata": {
    "executionInfo": {
     "elapsed": 725,
     "status": "ok",
     "timestamp": 1604630467553,
     "user": {
      "displayName": "Zhihan Yang",
      "photoUrl": "",
      "userId": "13640957592474416801"
     },
     "user_tz": -480
    },
    "id": "Pbtbk0GX3KQt"
   },
   "outputs": [],
   "source": [
    "def calc_total_reward(df):\n",
    "    df = df[['n', 'contextualVariable0', 'ObservedRewardofAction']]\n",
    "    df = df.groupby(['contextualVariable0'], group_keys=False)['ObservedRewardofAction'].expanding().sum()\n",
    "    df = df.to_frame('Total Reward').reset_index().rename(index=str, columns={'level_1': 'n'})\n",
    "    return df\n",
    "\n",
    "def graph_total_reward(df):\n",
    "    title = 'Total Reward against Trials'\n",
    "    g = sns.FacetGrid(data=df, col=\"Type\", hue='contextualVariable0')\n",
    "    g = g.map_dataframe(sns.lineplot, x='n', y='Total Reward', ci=None) # ci=68)\n",
    "    g.add_legend()\n",
    "    g.set_ylabels(\"Total Reward\")\n",
    "    g.set_xlabels(\"Trials\")\n",
    "    g.savefig(title)"
   ]
  },
  {
   "cell_type": "code",
   "execution_count": 9,
   "metadata": {
    "executionInfo": {
     "elapsed": 481,
     "status": "ok",
     "timestamp": 1604630467591,
     "user": {
      "displayName": "Zhihan Yang",
      "photoUrl": "",
      "userId": "13640957592474416801"
     },
     "user_tz": -480
    },
    "id": "vQYteznP3N5V"
   },
   "outputs": [],
   "source": [
    "def calc_arm_reward_probabilities(df):\n",
    "    df = df.set_index('n')\n",
    "    df = df.filter(regex=(\"Action[\\d.]+EstimatedProb\"))\n",
    "    df = df.rename(columns=lambda x: re.sub(r'(Action)([\\d.]+)[\\w]+', r\"\\2\", x))\n",
    "    df = df.reset_index()\n",
    "    df = df.melt('n', var_name='Arm',  value_name='Arm Reward Probabilities')\n",
    "    return df\n",
    "\n",
    "def graph_arm_reward_probabilities(df):\n",
    "    title = 'Arm Reward Probabilities'\n",
    "    g = sns.FacetGrid(data=df, col=\"Type\", hue='Arm')\n",
    "    g = g.map_dataframe(sns.lineplot, x='n', y='Arm Reward Probabilities', ci=None) # ci=68)\n",
    "    g.add_legend()\n",
    "    g.set_ylabels(\"Arm Reward Probabilities\")\n",
    "    g.set_xlabels(\"Trials\")\n",
    "    g.savefig(title)"
   ]
  },
  {
   "cell_type": "code",
   "execution_count": 10,
   "metadata": {
    "executionInfo": {
     "elapsed": 880,
     "status": "ok",
     "timestamp": 1604630468347,
     "user": {
      "displayName": "Zhihan Yang",
      "photoUrl": "",
      "userId": "13640957592474416801"
     },
     "user_tz": -480
    },
    "id": "M2BQ4qrm3Qpz"
   },
   "outputs": [],
   "source": [
    "def calc_arm_proportion_rolling_mean(df, rolling_percentage=0.25):\n",
    "    max_trial = df['n'].max()+1\n",
    "    max_action = df['AlgorithmAction'].max()+1\n",
    "    df = df.groupby(['n', 'AlgorithmAction']).AlgorithmAction.count()\n",
    "\n",
    "    levels = [list(range(0, max_trial)), list(range(1, max_action))]\n",
    "    idx = pd.MultiIndex.from_product(levels, names=df.index.names)\n",
    "\n",
    "    # Reindex the df_noncontextual_action_count and fill empty values with zero (NaN by default)\n",
    "    df = df.reindex(idx, fill_value=0)\n",
    "    df = df.transform(lambda x: (x/(max_trial)*100))\n",
    "    df = df.swaplevel().groupby('AlgorithmAction', group_keys=False).rolling(int(rolling_percentage*max_trial), min_periods=1).mean()\n",
    "    df = df.to_frame('rolling_mean').reset_index()\n",
    "    return df\n",
    "\n",
    "def graph_arm_rolling_proportion(df):\n",
    "    title = 'Arm action rolling proportion against trials'\n",
    "    g = sns.FacetGrid(data=df, col=\"Type\", hue='AlgorithmAction')\n",
    "    g = g.map_dataframe(sns.lineplot, x='n', y='rolling_mean', ci=None)\n",
    "    g.add_legend()\n",
    "    g.set_ylabels(\"Arm action rolling proportion\")\n",
    "    g.set_xlabels(\"Trials\")\n",
    "    g.savefig(title)"
   ]
  },
  {
   "cell_type": "code",
   "execution_count": 11,
   "metadata": {
    "executionInfo": {
     "elapsed": 767,
     "status": "ok",
     "timestamp": 1604630468595,
     "user": {
      "displayName": "Zhihan Yang",
      "photoUrl": "",
      "userId": "13640957592474416801"
     },
     "user_tz": -480
    },
    "id": "eeR_d2zd3UOf"
   },
   "outputs": [],
   "source": [
    "def calc_total_reward_histogram(df):\n",
    "    df = df[['n', 'contextualVariable0', 'ObservedRewardofAction']]\n",
    "    df = df.groupby(['contextualVariable0'], group_keys=False)['ObservedRewardofAction'].expanding().sum()\n",
    "    df = df.to_frame('Total Reward').reset_index().rename(index=str, columns={'level_1': 'n'})\n",
    "    df = df[df['n'] == 999]\n",
    "    df = df.drop('n', axis=1)\n",
    "    return df\n",
    "\n",
    "def graph_total_reward_distribution(df):\n",
    "    title = 'Total Reward Histogram'\n",
    "    g = sns.FacetGrid(data=df, col=\"Type\", hue='contextualVariable0')\n",
    "    g = g.map(sns.distplot, \"Total Reward\", kde=False)\n",
    "    g.add_legend()\n",
    "    g.set_ylabels(\"PDF\")\n",
    "    g.savefig(title)"
   ]
  },
  {
   "cell_type": "code",
   "execution_count": null,
   "metadata": {
    "executionInfo": {
     "elapsed": 515,
     "status": "ok",
     "timestamp": 1604630468814,
     "user": {
      "displayName": "Zhihan Yang",
      "photoUrl": "",
      "userId": "13640957592474416801"
     },
     "user_tz": -480
    },
    "id": "C1sncVPwdl2p"
   },
   "outputs": [],
   "source": []
  },
  {
   "cell_type": "markdown",
   "metadata": {
    "id": "RmOfWhtWeqat"
   },
   "source": [
    "# Read in CSVs for later analysis"
   ]
  },
  {
   "cell_type": "code",
   "execution_count": 12,
   "metadata": {},
   "outputs": [
    {
     "name": "stdout",
     "output_type": "stream",
     "text": [
      "/home/yangz2/disk2/contextualBanditSimsNoEffect/PosterData/C5_G50_Crossover/\n",
      "Took 6.59 seconds.\n",
      "/home/yangz2/disk2/contextualBanditSimsNoEffect/PosterData/C5_G50_Crossover_uniformForFirst25/\n",
      "Took 7.47 seconds.\n",
      "/home/yangz2/disk2/contextualBanditSimsNoEffect/PosterData/C5_G50_Crossover_uniformForFirst50/\n",
      "Took 8.15 seconds.\n",
      "/home/yangz2/disk2/contextualBanditSimsNoEffect/PosterData/C5_G50_Crossover_uniformForFirst75/\n",
      "Took 7.88 seconds.\n",
      "/home/yangz2/disk2/contextualBanditSimsNoEffect/PosterData/C5_G50_Crossover_uniformForFirst100/\n",
      "Took 8.51 seconds.\n"
     ]
    }
   ],
   "source": [
    "n0_reader = DFReader(directory='/home/yangz2/disk2/contextualBanditSimsNoEffect/PosterData/C5_G50_Crossover/')\n",
    "n25_reader = DFReader(directory='/home/yangz2/disk2/contextualBanditSimsNoEffect/PosterData/C5_G50_Crossover_uniformForFirst25/')\n",
    "n50_reader = DFReader(directory='/home/yangz2/disk2/contextualBanditSimsNoEffect/PosterData/C5_G50_Crossover_uniformForFirst50/')\n",
    "n75_reader = DFReader(directory='/home/yangz2/disk2/contextualBanditSimsNoEffect/PosterData/C5_G50_Crossover_uniformForFirst75/')\n",
    "n100_reader = DFReader(directory='/home/yangz2/disk2/contextualBanditSimsNoEffect/PosterData/C5_G50_Crossover_uniformForFirst100/')"
   ]
  },
  {
   "cell_type": "markdown",
   "metadata": {
    "id": "920WWlBy0v5E"
   },
   "source": [
    "# Mean and std of Total Reward"
   ]
  },
  {
   "cell_type": "code",
   "execution_count": 13,
   "metadata": {},
   "outputs": [],
   "source": [
    "df_n0 = n0_reader.calc_df(calc_total_reward)\n",
    "df_n25 = n25_reader.calc_df(calc_total_reward)\n",
    "df_n50 = n50_reader.calc_df(calc_total_reward)\n",
    "df_n75 = n75_reader.calc_df(calc_total_reward)\n",
    "df_n100 = n100_reader.calc_df(calc_total_reward)"
   ]
  },
  {
   "cell_type": "code",
   "execution_count": 14,
   "metadata": {
    "colab": {
     "base_uri": "https://localhost:8080/",
     "height": 204
    },
    "executionInfo": {
     "elapsed": 685,
     "status": "ok",
     "timestamp": 1603875142876,
     "user": {
      "displayName": "Zhihan Yang",
      "photoUrl": "",
      "userId": "13640957592474416801"
     },
     "user_tz": -480
    },
    "id": "rg3o0Q62qpp1",
    "outputId": "df4ac744-b0a4-4cb2-8561-926b195ee1bd"
   },
   "outputs": [
    {
     "data": {
      "text/html": [
       "<div>\n",
       "<style scoped>\n",
       "    .dataframe tbody tr th:only-of-type {\n",
       "        vertical-align: middle;\n",
       "    }\n",
       "\n",
       "    .dataframe tbody tr th {\n",
       "        vertical-align: top;\n",
       "    }\n",
       "\n",
       "    .dataframe thead th {\n",
       "        text-align: right;\n",
       "    }\n",
       "</style>\n",
       "<table border=\"1\" class=\"dataframe\">\n",
       "  <thead>\n",
       "    <tr style=\"text-align: right;\">\n",
       "      <th></th>\n",
       "      <th></th>\n",
       "      <th>n</th>\n",
       "      <th>Total Reward</th>\n",
       "    </tr>\n",
       "    <tr>\n",
       "      <th>contextualVariable0</th>\n",
       "      <th>Type</th>\n",
       "      <th></th>\n",
       "      <th></th>\n",
       "    </tr>\n",
       "  </thead>\n",
       "  <tbody>\n",
       "    <tr>\n",
       "      <th rowspan=\"2\" valign=\"top\">0</th>\n",
       "      <th>Contextual</th>\n",
       "      <td>999</td>\n",
       "      <td>277.384158</td>\n",
       "    </tr>\n",
       "    <tr>\n",
       "      <th>Non Contextual</th>\n",
       "      <td>999</td>\n",
       "      <td>250.142574</td>\n",
       "    </tr>\n",
       "    <tr>\n",
       "      <th rowspan=\"2\" valign=\"top\">1</th>\n",
       "      <th>Contextual</th>\n",
       "      <td>999</td>\n",
       "      <td>275.086869</td>\n",
       "    </tr>\n",
       "    <tr>\n",
       "      <th>Non Contextual</th>\n",
       "      <td>999</td>\n",
       "      <td>248.878788</td>\n",
       "    </tr>\n",
       "  </tbody>\n",
       "</table>\n",
       "</div>"
      ],
      "text/plain": [
       "                                      n  Total Reward\n",
       "contextualVariable0 Type                             \n",
       "0                   Contextual      999    277.384158\n",
       "                    Non Contextual  999    250.142574\n",
       "1                   Contextual      999    275.086869\n",
       "                    Non Contextual  999    248.878788"
      ]
     },
     "execution_count": 14,
     "metadata": {},
     "output_type": "execute_result"
    }
   ],
   "source": [
    "#num students is 129\n",
    "df_n0[df_n0['n'] == 999].groupby(['contextualVariable0', 'Type']).mean()"
   ]
  },
  {
   "cell_type": "code",
   "execution_count": 15,
   "metadata": {
    "colab": {
     "base_uri": "https://localhost:8080/",
     "height": 204
    },
    "executionInfo": {
     "elapsed": 477,
     "status": "ok",
     "timestamp": 1604632184763,
     "user": {
      "displayName": "Zhihan Yang",
      "photoUrl": "",
      "userId": "13640957592474416801"
     },
     "user_tz": -480
    },
    "id": "hewmyCB3aGb4",
    "outputId": "4f8446a4-5e70-4f95-db26-fdd505483eda"
   },
   "outputs": [
    {
     "data": {
      "text/html": [
       "<div>\n",
       "<style scoped>\n",
       "    .dataframe tbody tr th:only-of-type {\n",
       "        vertical-align: middle;\n",
       "    }\n",
       "\n",
       "    .dataframe tbody tr th {\n",
       "        vertical-align: top;\n",
       "    }\n",
       "\n",
       "    .dataframe thead th {\n",
       "        text-align: right;\n",
       "    }\n",
       "</style>\n",
       "<table border=\"1\" class=\"dataframe\">\n",
       "  <thead>\n",
       "    <tr style=\"text-align: right;\">\n",
       "      <th></th>\n",
       "      <th></th>\n",
       "      <th>n</th>\n",
       "      <th>Total Reward</th>\n",
       "    </tr>\n",
       "    <tr>\n",
       "      <th>contextualVariable0</th>\n",
       "      <th>Type</th>\n",
       "      <th></th>\n",
       "      <th></th>\n",
       "    </tr>\n",
       "  </thead>\n",
       "  <tbody>\n",
       "    <tr>\n",
       "      <th rowspan=\"2\" valign=\"top\">0</th>\n",
       "      <th>Contextual</th>\n",
       "      <td>999</td>\n",
       "      <td>281.384899</td>\n",
       "    </tr>\n",
       "    <tr>\n",
       "      <th>Non Contextual</th>\n",
       "      <td>999</td>\n",
       "      <td>249.513812</td>\n",
       "    </tr>\n",
       "    <tr>\n",
       "      <th rowspan=\"2\" valign=\"top\">1</th>\n",
       "      <th>Contextual</th>\n",
       "      <td>999</td>\n",
       "      <td>280.943107</td>\n",
       "    </tr>\n",
       "    <tr>\n",
       "      <th>Non Contextual</th>\n",
       "      <td>999</td>\n",
       "      <td>248.417943</td>\n",
       "    </tr>\n",
       "  </tbody>\n",
       "</table>\n",
       "</div>"
      ],
      "text/plain": [
       "                                      n  Total Reward\n",
       "contextualVariable0 Type                             \n",
       "0                   Contextual      999    281.384899\n",
       "                    Non Contextual  999    249.513812\n",
       "1                   Contextual      999    280.943107\n",
       "                    Non Contextual  999    248.417943"
      ]
     },
     "execution_count": 15,
     "metadata": {},
     "output_type": "execute_result"
    }
   ],
   "source": [
    "df_n25[df_n25['n'] == 999].groupby(['contextualVariable0', 'Type']).mean()"
   ]
  },
  {
   "cell_type": "code",
   "execution_count": 16,
   "metadata": {
    "colab": {
     "base_uri": "https://localhost:8080/",
     "height": 204
    },
    "executionInfo": {
     "elapsed": 495,
     "status": "ok",
     "timestamp": 1604632187469,
     "user": {
      "displayName": "Zhihan Yang",
      "photoUrl": "",
      "userId": "13640957592474416801"
     },
     "user_tz": -480
    },
    "id": "oRcznBn5_uqQ",
    "outputId": "c012d80d-ec69-4d4b-9ec7-8b2aeb431028"
   },
   "outputs": [
    {
     "data": {
      "text/html": [
       "<div>\n",
       "<style scoped>\n",
       "    .dataframe tbody tr th:only-of-type {\n",
       "        vertical-align: middle;\n",
       "    }\n",
       "\n",
       "    .dataframe tbody tr th {\n",
       "        vertical-align: top;\n",
       "    }\n",
       "\n",
       "    .dataframe thead th {\n",
       "        text-align: right;\n",
       "    }\n",
       "</style>\n",
       "<table border=\"1\" class=\"dataframe\">\n",
       "  <thead>\n",
       "    <tr style=\"text-align: right;\">\n",
       "      <th></th>\n",
       "      <th></th>\n",
       "      <th>n</th>\n",
       "      <th>Total Reward</th>\n",
       "    </tr>\n",
       "    <tr>\n",
       "      <th>contextualVariable0</th>\n",
       "      <th>Type</th>\n",
       "      <th></th>\n",
       "      <th></th>\n",
       "    </tr>\n",
       "  </thead>\n",
       "  <tbody>\n",
       "    <tr>\n",
       "      <th rowspan=\"2\" valign=\"top\">0</th>\n",
       "      <th>Contextual</th>\n",
       "      <td>999</td>\n",
       "      <td>284.431493</td>\n",
       "    </tr>\n",
       "    <tr>\n",
       "      <th>Non Contextual</th>\n",
       "      <td>999</td>\n",
       "      <td>250.903885</td>\n",
       "    </tr>\n",
       "    <tr>\n",
       "      <th rowspan=\"2\" valign=\"top\">1</th>\n",
       "      <th>Contextual</th>\n",
       "      <td>999</td>\n",
       "      <td>284.168297</td>\n",
       "    </tr>\n",
       "    <tr>\n",
       "      <th>Non Contextual</th>\n",
       "      <td>999</td>\n",
       "      <td>248.031311</td>\n",
       "    </tr>\n",
       "  </tbody>\n",
       "</table>\n",
       "</div>"
      ],
      "text/plain": [
       "                                      n  Total Reward\n",
       "contextualVariable0 Type                             \n",
       "0                   Contextual      999    284.431493\n",
       "                    Non Contextual  999    250.903885\n",
       "1                   Contextual      999    284.168297\n",
       "                    Non Contextual  999    248.031311"
      ]
     },
     "execution_count": 16,
     "metadata": {},
     "output_type": "execute_result"
    }
   ],
   "source": [
    "df_n50[df_n50['n'] == 999].groupby(['contextualVariable0', 'Type']).mean()"
   ]
  },
  {
   "cell_type": "code",
   "execution_count": 17,
   "metadata": {},
   "outputs": [
    {
     "data": {
      "text/html": [
       "<div>\n",
       "<style scoped>\n",
       "    .dataframe tbody tr th:only-of-type {\n",
       "        vertical-align: middle;\n",
       "    }\n",
       "\n",
       "    .dataframe tbody tr th {\n",
       "        vertical-align: top;\n",
       "    }\n",
       "\n",
       "    .dataframe thead th {\n",
       "        text-align: right;\n",
       "    }\n",
       "</style>\n",
       "<table border=\"1\" class=\"dataframe\">\n",
       "  <thead>\n",
       "    <tr style=\"text-align: right;\">\n",
       "      <th></th>\n",
       "      <th></th>\n",
       "      <th>n</th>\n",
       "      <th>Total Reward</th>\n",
       "    </tr>\n",
       "    <tr>\n",
       "      <th>contextualVariable0</th>\n",
       "      <th>Type</th>\n",
       "      <th></th>\n",
       "      <th></th>\n",
       "    </tr>\n",
       "  </thead>\n",
       "  <tbody>\n",
       "    <tr>\n",
       "      <th rowspan=\"2\" valign=\"top\">0</th>\n",
       "      <th>Contextual</th>\n",
       "      <td>999</td>\n",
       "      <td>285.774379</td>\n",
       "    </tr>\n",
       "    <tr>\n",
       "      <th>Non Contextual</th>\n",
       "      <td>999</td>\n",
       "      <td>251.575526</td>\n",
       "    </tr>\n",
       "    <tr>\n",
       "      <th rowspan=\"2\" valign=\"top\">1</th>\n",
       "      <th>Contextual</th>\n",
       "      <td>999</td>\n",
       "      <td>285.073375</td>\n",
       "    </tr>\n",
       "    <tr>\n",
       "      <th>Non Contextual</th>\n",
       "      <td>999</td>\n",
       "      <td>249.297694</td>\n",
       "    </tr>\n",
       "  </tbody>\n",
       "</table>\n",
       "</div>"
      ],
      "text/plain": [
       "                                      n  Total Reward\n",
       "contextualVariable0 Type                             \n",
       "0                   Contextual      999    285.774379\n",
       "                    Non Contextual  999    251.575526\n",
       "1                   Contextual      999    285.073375\n",
       "                    Non Contextual  999    249.297694"
      ]
     },
     "execution_count": 17,
     "metadata": {},
     "output_type": "execute_result"
    }
   ],
   "source": [
    "df_n75[df_n75['n'] == 999].groupby(['contextualVariable0', 'Type']).mean()"
   ]
  },
  {
   "cell_type": "code",
   "execution_count": 18,
   "metadata": {},
   "outputs": [
    {
     "data": {
      "text/html": [
       "<div>\n",
       "<style scoped>\n",
       "    .dataframe tbody tr th:only-of-type {\n",
       "        vertical-align: middle;\n",
       "    }\n",
       "\n",
       "    .dataframe tbody tr th {\n",
       "        vertical-align: top;\n",
       "    }\n",
       "\n",
       "    .dataframe thead th {\n",
       "        text-align: right;\n",
       "    }\n",
       "</style>\n",
       "<table border=\"1\" class=\"dataframe\">\n",
       "  <thead>\n",
       "    <tr style=\"text-align: right;\">\n",
       "      <th></th>\n",
       "      <th></th>\n",
       "      <th>n</th>\n",
       "      <th>Total Reward</th>\n",
       "    </tr>\n",
       "    <tr>\n",
       "      <th>contextualVariable0</th>\n",
       "      <th>Type</th>\n",
       "      <th></th>\n",
       "      <th></th>\n",
       "    </tr>\n",
       "  </thead>\n",
       "  <tbody>\n",
       "    <tr>\n",
       "      <th rowspan=\"2\" valign=\"top\">0</th>\n",
       "      <th>Contextual</th>\n",
       "      <td>999</td>\n",
       "      <td>287.518367</td>\n",
       "    </tr>\n",
       "    <tr>\n",
       "      <th>Non Contextual</th>\n",
       "      <td>999</td>\n",
       "      <td>252.565306</td>\n",
       "    </tr>\n",
       "    <tr>\n",
       "      <th rowspan=\"2\" valign=\"top\">1</th>\n",
       "      <th>Contextual</th>\n",
       "      <td>999</td>\n",
       "      <td>285.758824</td>\n",
       "    </tr>\n",
       "    <tr>\n",
       "      <th>Non Contextual</th>\n",
       "      <td>999</td>\n",
       "      <td>249.652941</td>\n",
       "    </tr>\n",
       "  </tbody>\n",
       "</table>\n",
       "</div>"
      ],
      "text/plain": [
       "                                      n  Total Reward\n",
       "contextualVariable0 Type                             \n",
       "0                   Contextual      999    287.518367\n",
       "                    Non Contextual  999    252.565306\n",
       "1                   Contextual      999    285.758824\n",
       "                    Non Contextual  999    249.652941"
      ]
     },
     "execution_count": 18,
     "metadata": {},
     "output_type": "execute_result"
    }
   ],
   "source": [
    "df_n100[df_n100['n'] == 999].groupby(['contextualVariable0', 'Type']).mean()"
   ]
  },
  {
   "cell_type": "code",
   "execution_count": 19,
   "metadata": {
    "colab": {
     "base_uri": "https://localhost:8080/",
     "height": 204
    },
    "executionInfo": {
     "elapsed": 721,
     "status": "ok",
     "timestamp": 1603875146767,
     "user": {
      "displayName": "Zhihan Yang",
      "photoUrl": "",
      "userId": "13640957592474416801"
     },
     "user_tz": -480
    },
    "id": "l5KZWNIwXsl9",
    "outputId": "ab5f936a-cea0-4e10-cbdc-a3f21fa601fe"
   },
   "outputs": [
    {
     "data": {
      "text/html": [
       "<div>\n",
       "<style scoped>\n",
       "    .dataframe tbody tr th:only-of-type {\n",
       "        vertical-align: middle;\n",
       "    }\n",
       "\n",
       "    .dataframe tbody tr th {\n",
       "        vertical-align: top;\n",
       "    }\n",
       "\n",
       "    .dataframe thead th {\n",
       "        text-align: right;\n",
       "    }\n",
       "</style>\n",
       "<table border=\"1\" class=\"dataframe\">\n",
       "  <thead>\n",
       "    <tr style=\"text-align: right;\">\n",
       "      <th></th>\n",
       "      <th></th>\n",
       "      <th>n</th>\n",
       "      <th>Total Reward</th>\n",
       "    </tr>\n",
       "    <tr>\n",
       "      <th>contextualVariable0</th>\n",
       "      <th>Type</th>\n",
       "      <th></th>\n",
       "      <th></th>\n",
       "    </tr>\n",
       "  </thead>\n",
       "  <tbody>\n",
       "    <tr>\n",
       "      <th rowspan=\"2\" valign=\"top\">0</th>\n",
       "      <th>Contextual</th>\n",
       "      <td>0.0</td>\n",
       "      <td>28.344727</td>\n",
       "    </tr>\n",
       "    <tr>\n",
       "      <th>Non Contextual</th>\n",
       "      <td>0.0</td>\n",
       "      <td>32.526599</td>\n",
       "    </tr>\n",
       "    <tr>\n",
       "      <th rowspan=\"2\" valign=\"top\">1</th>\n",
       "      <th>Contextual</th>\n",
       "      <td>0.0</td>\n",
       "      <td>30.469181</td>\n",
       "    </tr>\n",
       "    <tr>\n",
       "      <th>Non Contextual</th>\n",
       "      <td>0.0</td>\n",
       "      <td>32.602337</td>\n",
       "    </tr>\n",
       "  </tbody>\n",
       "</table>\n",
       "</div>"
      ],
      "text/plain": [
       "                                      n  Total Reward\n",
       "contextualVariable0 Type                             \n",
       "0                   Contextual      0.0     28.344727\n",
       "                    Non Contextual  0.0     32.526599\n",
       "1                   Contextual      0.0     30.469181\n",
       "                    Non Contextual  0.0     32.602337"
      ]
     },
     "execution_count": 19,
     "metadata": {},
     "output_type": "execute_result"
    }
   ],
   "source": [
    "df_n0[df_n0['n'] == 999].groupby(['contextualVariable0', 'Type']).std()"
   ]
  },
  {
   "cell_type": "code",
   "execution_count": 20,
   "metadata": {
    "colab": {
     "base_uri": "https://localhost:8080/",
     "height": 204
    },
    "executionInfo": {
     "elapsed": 1049,
     "status": "ok",
     "timestamp": 1604632193311,
     "user": {
      "displayName": "Zhihan Yang",
      "photoUrl": "",
      "userId": "13640957592474416801"
     },
     "user_tz": -480
    },
    "id": "E0eChXXlrokp",
    "outputId": "6df06f9c-816e-4dea-d39a-a5bfb4c45016"
   },
   "outputs": [
    {
     "data": {
      "text/html": [
       "<div>\n",
       "<style scoped>\n",
       "    .dataframe tbody tr th:only-of-type {\n",
       "        vertical-align: middle;\n",
       "    }\n",
       "\n",
       "    .dataframe tbody tr th {\n",
       "        vertical-align: top;\n",
       "    }\n",
       "\n",
       "    .dataframe thead th {\n",
       "        text-align: right;\n",
       "    }\n",
       "</style>\n",
       "<table border=\"1\" class=\"dataframe\">\n",
       "  <thead>\n",
       "    <tr style=\"text-align: right;\">\n",
       "      <th></th>\n",
       "      <th></th>\n",
       "      <th>n</th>\n",
       "      <th>Total Reward</th>\n",
       "    </tr>\n",
       "    <tr>\n",
       "      <th>contextualVariable0</th>\n",
       "      <th>Type</th>\n",
       "      <th></th>\n",
       "      <th></th>\n",
       "    </tr>\n",
       "  </thead>\n",
       "  <tbody>\n",
       "    <tr>\n",
       "      <th rowspan=\"2\" valign=\"top\">0</th>\n",
       "      <th>Contextual</th>\n",
       "      <td>0.0</td>\n",
       "      <td>26.139653</td>\n",
       "    </tr>\n",
       "    <tr>\n",
       "      <th>Non Contextual</th>\n",
       "      <td>0.0</td>\n",
       "      <td>32.469902</td>\n",
       "    </tr>\n",
       "    <tr>\n",
       "      <th rowspan=\"2\" valign=\"top\">1</th>\n",
       "      <th>Contextual</th>\n",
       "      <td>0.0</td>\n",
       "      <td>26.320916</td>\n",
       "    </tr>\n",
       "    <tr>\n",
       "      <th>Non Contextual</th>\n",
       "      <td>0.0</td>\n",
       "      <td>32.783687</td>\n",
       "    </tr>\n",
       "  </tbody>\n",
       "</table>\n",
       "</div>"
      ],
      "text/plain": [
       "                                      n  Total Reward\n",
       "contextualVariable0 Type                             \n",
       "0                   Contextual      0.0     26.139653\n",
       "                    Non Contextual  0.0     32.469902\n",
       "1                   Contextual      0.0     26.320916\n",
       "                    Non Contextual  0.0     32.783687"
      ]
     },
     "execution_count": 20,
     "metadata": {},
     "output_type": "execute_result"
    }
   ],
   "source": [
    "df_n25[df_n25['n'] == 999].groupby(['contextualVariable0', 'Type']).std()"
   ]
  },
  {
   "cell_type": "code",
   "execution_count": 21,
   "metadata": {
    "colab": {
     "base_uri": "https://localhost:8080/",
     "height": 204
    },
    "executionInfo": {
     "elapsed": 525,
     "status": "ok",
     "timestamp": 1604632195494,
     "user": {
      "displayName": "Zhihan Yang",
      "photoUrl": "",
      "userId": "13640957592474416801"
     },
     "user_tz": -480
    },
    "id": "EG2rpVCAZyCw",
    "outputId": "712aa440-a6a0-4b6e-dc3a-cea04ce04246"
   },
   "outputs": [
    {
     "data": {
      "text/html": [
       "<div>\n",
       "<style scoped>\n",
       "    .dataframe tbody tr th:only-of-type {\n",
       "        vertical-align: middle;\n",
       "    }\n",
       "\n",
       "    .dataframe tbody tr th {\n",
       "        vertical-align: top;\n",
       "    }\n",
       "\n",
       "    .dataframe thead th {\n",
       "        text-align: right;\n",
       "    }\n",
       "</style>\n",
       "<table border=\"1\" class=\"dataframe\">\n",
       "  <thead>\n",
       "    <tr style=\"text-align: right;\">\n",
       "      <th></th>\n",
       "      <th></th>\n",
       "      <th>n</th>\n",
       "      <th>Total Reward</th>\n",
       "    </tr>\n",
       "    <tr>\n",
       "      <th>contextualVariable0</th>\n",
       "      <th>Type</th>\n",
       "      <th></th>\n",
       "      <th></th>\n",
       "    </tr>\n",
       "  </thead>\n",
       "  <tbody>\n",
       "    <tr>\n",
       "      <th rowspan=\"2\" valign=\"top\">0</th>\n",
       "      <th>Contextual</th>\n",
       "      <td>0.0</td>\n",
       "      <td>21.586556</td>\n",
       "    </tr>\n",
       "    <tr>\n",
       "      <th>Non Contextual</th>\n",
       "      <td>0.0</td>\n",
       "      <td>31.698454</td>\n",
       "    </tr>\n",
       "    <tr>\n",
       "      <th rowspan=\"2\" valign=\"top\">1</th>\n",
       "      <th>Contextual</th>\n",
       "      <td>0.0</td>\n",
       "      <td>21.565928</td>\n",
       "    </tr>\n",
       "    <tr>\n",
       "      <th>Non Contextual</th>\n",
       "      <td>0.0</td>\n",
       "      <td>32.426493</td>\n",
       "    </tr>\n",
       "  </tbody>\n",
       "</table>\n",
       "</div>"
      ],
      "text/plain": [
       "                                      n  Total Reward\n",
       "contextualVariable0 Type                             \n",
       "0                   Contextual      0.0     21.586556\n",
       "                    Non Contextual  0.0     31.698454\n",
       "1                   Contextual      0.0     21.565928\n",
       "                    Non Contextual  0.0     32.426493"
      ]
     },
     "execution_count": 21,
     "metadata": {},
     "output_type": "execute_result"
    }
   ],
   "source": [
    "df_n50[df_n50['n'] == 999].groupby(['contextualVariable0', 'Type']).std()"
   ]
  },
  {
   "cell_type": "code",
   "execution_count": 22,
   "metadata": {
    "id": "4m-q5pNjgADB"
   },
   "outputs": [
    {
     "data": {
      "text/html": [
       "<div>\n",
       "<style scoped>\n",
       "    .dataframe tbody tr th:only-of-type {\n",
       "        vertical-align: middle;\n",
       "    }\n",
       "\n",
       "    .dataframe tbody tr th {\n",
       "        vertical-align: top;\n",
       "    }\n",
       "\n",
       "    .dataframe thead th {\n",
       "        text-align: right;\n",
       "    }\n",
       "</style>\n",
       "<table border=\"1\" class=\"dataframe\">\n",
       "  <thead>\n",
       "    <tr style=\"text-align: right;\">\n",
       "      <th></th>\n",
       "      <th></th>\n",
       "      <th>n</th>\n",
       "      <th>Total Reward</th>\n",
       "    </tr>\n",
       "    <tr>\n",
       "      <th>contextualVariable0</th>\n",
       "      <th>Type</th>\n",
       "      <th></th>\n",
       "      <th></th>\n",
       "    </tr>\n",
       "  </thead>\n",
       "  <tbody>\n",
       "    <tr>\n",
       "      <th rowspan=\"2\" valign=\"top\">0</th>\n",
       "      <th>Contextual</th>\n",
       "      <td>0.0</td>\n",
       "      <td>19.776887</td>\n",
       "    </tr>\n",
       "    <tr>\n",
       "      <th>Non Contextual</th>\n",
       "      <td>0.0</td>\n",
       "      <td>32.298351</td>\n",
       "    </tr>\n",
       "    <tr>\n",
       "      <th rowspan=\"2\" valign=\"top\">1</th>\n",
       "      <th>Contextual</th>\n",
       "      <td>0.0</td>\n",
       "      <td>20.004539</td>\n",
       "    </tr>\n",
       "    <tr>\n",
       "      <th>Non Contextual</th>\n",
       "      <td>0.0</td>\n",
       "      <td>32.081950</td>\n",
       "    </tr>\n",
       "  </tbody>\n",
       "</table>\n",
       "</div>"
      ],
      "text/plain": [
       "                                      n  Total Reward\n",
       "contextualVariable0 Type                             \n",
       "0                   Contextual      0.0     19.776887\n",
       "                    Non Contextual  0.0     32.298351\n",
       "1                   Contextual      0.0     20.004539\n",
       "                    Non Contextual  0.0     32.081950"
      ]
     },
     "execution_count": 22,
     "metadata": {},
     "output_type": "execute_result"
    }
   ],
   "source": [
    "df_n75[df_n75['n'] == 999].groupby(['contextualVariable0', 'Type']).std()"
   ]
  },
  {
   "cell_type": "code",
   "execution_count": 23,
   "metadata": {},
   "outputs": [
    {
     "data": {
      "text/html": [
       "<div>\n",
       "<style scoped>\n",
       "    .dataframe tbody tr th:only-of-type {\n",
       "        vertical-align: middle;\n",
       "    }\n",
       "\n",
       "    .dataframe tbody tr th {\n",
       "        vertical-align: top;\n",
       "    }\n",
       "\n",
       "    .dataframe thead th {\n",
       "        text-align: right;\n",
       "    }\n",
       "</style>\n",
       "<table border=\"1\" class=\"dataframe\">\n",
       "  <thead>\n",
       "    <tr style=\"text-align: right;\">\n",
       "      <th></th>\n",
       "      <th></th>\n",
       "      <th>n</th>\n",
       "      <th>Total Reward</th>\n",
       "    </tr>\n",
       "    <tr>\n",
       "      <th>contextualVariable0</th>\n",
       "      <th>Type</th>\n",
       "      <th></th>\n",
       "      <th></th>\n",
       "    </tr>\n",
       "  </thead>\n",
       "  <tbody>\n",
       "    <tr>\n",
       "      <th rowspan=\"2\" valign=\"top\">0</th>\n",
       "      <th>Contextual</th>\n",
       "      <td>0.0</td>\n",
       "      <td>19.713092</td>\n",
       "    </tr>\n",
       "    <tr>\n",
       "      <th>Non Contextual</th>\n",
       "      <td>0.0</td>\n",
       "      <td>31.898626</td>\n",
       "    </tr>\n",
       "    <tr>\n",
       "      <th rowspan=\"2\" valign=\"top\">1</th>\n",
       "      <th>Contextual</th>\n",
       "      <td>0.0</td>\n",
       "      <td>18.129166</td>\n",
       "    </tr>\n",
       "    <tr>\n",
       "      <th>Non Contextual</th>\n",
       "      <td>0.0</td>\n",
       "      <td>31.750426</td>\n",
       "    </tr>\n",
       "  </tbody>\n",
       "</table>\n",
       "</div>"
      ],
      "text/plain": [
       "                                      n  Total Reward\n",
       "contextualVariable0 Type                             \n",
       "0                   Contextual      0.0     19.713092\n",
       "                    Non Contextual  0.0     31.898626\n",
       "1                   Contextual      0.0     18.129166\n",
       "                    Non Contextual  0.0     31.750426"
      ]
     },
     "execution_count": 23,
     "metadata": {},
     "output_type": "execute_result"
    }
   ],
   "source": [
    "df_n100[df_n100['n'] == 999].groupby(['contextualVariable0', 'Type']).std()"
   ]
  },
  {
   "cell_type": "markdown",
   "metadata": {
    "id": "PiejM5LSnOEu"
   },
   "source": [
    "# Swarm plots"
   ]
  },
  {
   "cell_type": "code",
   "execution_count": 27,
   "metadata": {
    "executionInfo": {
     "elapsed": 489,
     "status": "ok",
     "timestamp": 1604632199888,
     "user": {
      "displayName": "Zhihan Yang",
      "photoUrl": "",
      "userId": "13640957592474416801"
     },
     "user_tz": -480
    },
    "id": "LPWgs43VSC-U"
   },
   "outputs": [],
   "source": [
    "def calc_proportion_optimal_action(df, first_num_students):\n",
    "    mean =  df[:first_num_students]['MatchesOptimalExpectedAction'].mean()\n",
    "    return pd.DataFrame([[mean]], columns=['prop_optimal_action'])"
   ]
  },
  {
   "cell_type": "code",
   "execution_count": 28,
   "metadata": {
    "executionInfo": {
     "elapsed": 1118,
     "status": "ok",
     "timestamp": 1604632276581,
     "user": {
      "displayName": "Zhihan Yang",
      "photoUrl": "",
      "userId": "13640957592474416801"
     },
     "user_tz": -480
    },
    "id": "cCIPH-PCVKs2"
   },
   "outputs": [],
   "source": [
    "first_num_students = 250"
   ]
  },
  {
   "cell_type": "code",
   "execution_count": 29,
   "metadata": {
    "executionInfo": {
     "elapsed": 4290,
     "status": "ok",
     "timestamp": 1604632280818,
     "user": {
      "displayName": "Zhihan Yang",
      "photoUrl": "",
      "userId": "13640957592474416801"
     },
     "user_tz": -480
    },
    "id": "naaoyHMaAGY8"
   },
   "outputs": [],
   "source": [
    "df_poa = lambda1_reader.calc_df(partial(calc_proportion_optimal_action, first_num_students=first_num_students))\n",
    "df_lambda1t_poa = lambda1t_reader.calc_df(partial(calc_proportion_optimal_action, first_num_students=first_num_students))\n",
    "df_lambda1m_poa = lambda1m_reader.calc_df(partial(calc_proportion_optimal_action, first_num_students=first_num_students))\n"
   ]
  },
  {
   "cell_type": "code",
   "execution_count": 30,
   "metadata": {
    "colab": {
     "base_uri": "https://localhost:8080/"
    },
    "executionInfo": {
     "elapsed": 2271,
     "status": "ok",
     "timestamp": 1604632281070,
     "user": {
      "displayName": "Zhihan Yang",
      "photoUrl": "",
      "userId": "13640957592474416801"
     },
     "user_tz": -480
    },
    "id": "t2RM7UrVUWtz",
    "outputId": "eb2bc16b-37e0-44d4-d0cd-f874ac919d09"
   },
   "outputs": [
    {
     "name": "stderr",
     "output_type": "stream",
     "text": [
      "/home/yangz2/miniconda3/envs/mab/lib/python3.9/site-packages/pandas/core/indexing.py:1763: SettingWithCopyWarning: \n",
      "A value is trying to be set on a copy of a slice from a DataFrame.\n",
      "Try using .loc[row_indexer,col_indexer] = value instead\n",
      "\n",
      "See the caveats in the documentation: https://pandas.pydata.org/pandas-docs/stable/user_guide/indexing.html#returning-a-view-versus-a-copy\n",
      "  isetter(loc, value)\n"
     ]
    }
   ],
   "source": [
    "df1 = df_poa[df_poa['Type'] == 'Contextual']\n",
    "df1.loc[:,'Type'] = 'Contextual (Lambda = 1)'\n",
    "\n",
    "df2 = df_poa[df_poa['Type'] == 'Non Contextual']\n",
    "df2.loc[:,'Type'] = 'Non Contextual'\n",
    "\n",
    "df3 = df_lambda1t_poa[df_lambda1t_poa['Type'] == 'Contextual']\n",
    "df3.loc[:,'Type'] = 'Contextual (Lambda = 1000)'\n",
    "\n",
    "df4 = df_lambda1m_poa[df_lambda1m_poa['Type'] == 'Contextual']\n",
    "df4.loc[:,'Type'] = 'Contextual (Lambda = 1m)'\n",
    "\n",
    "df_all = pd.concat([df1, df2, df3, df4])"
   ]
  },
  {
   "cell_type": "code",
   "execution_count": 31,
   "metadata": {
    "colab": {
     "base_uri": "https://localhost:8080/"
    },
    "executionInfo": {
     "elapsed": 1385,
     "status": "ok",
     "timestamp": 1604632281414,
     "user": {
      "displayName": "Zhihan Yang",
      "photoUrl": "",
      "userId": "13640957592474416801"
     },
     "user_tz": -480
    },
    "id": "Qytzox8BV3Do",
    "outputId": "78b3cbec-8fbd-4d39-a7a7-d945343a417c"
   },
   "outputs": [
    {
     "data": {
      "text/plain": [
       "(4000, 2)"
      ]
     },
     "execution_count": 31,
     "metadata": {},
     "output_type": "execute_result"
    }
   ],
   "source": [
    "df_all.shape"
   ]
  },
  {
   "cell_type": "code",
   "execution_count": 32,
   "metadata": {},
   "outputs": [],
   "source": [
    "import warnings\n",
    "warnings.filterwarnings('ignore')"
   ]
  },
  {
   "cell_type": "code",
   "execution_count": 33,
   "metadata": {
    "colab": {
     "base_uri": "https://localhost:8080/",
     "height": 606
    },
    "executionInfo": {
     "elapsed": 11947,
     "status": "ok",
     "timestamp": 1604632292396,
     "user": {
      "displayName": "Zhihan Yang",
      "photoUrl": "",
      "userId": "13640957592474416801"
     },
     "user_tz": -480
    },
    "id": "rgW1ph7tgAw0",
    "outputId": "9692de4e-7ba0-4f5c-c0a2-f3ccebb51a6a"
   },
   "outputs": [
    {
     "data": {
      "image/png": "[encoded data removed]",
      "text/plain": [
       "<Figure size 504x504 with 1 Axes>"
      ]
     },
     "metadata": {
      "needs_background": "light"
     },
     "output_type": "display_data"
    }
   ],
   "source": [
    "fig = plt.figure(figsize=(7, 7))\n",
    "ax = fig.add_subplot(111)\n",
    "sns.swarmplot(\n",
    "    x='Type', y='prop_optimal_action',\n",
    "    data=df_all, \n",
    "    size=2.5,\n",
    "    ax=ax,\n",
    "    order=['Non Contextual','Contextual (Lambda = 1)','Contextual (Lambda = 1000)','Contextual (Lambda = 1m)' ]\n",
    ")\n",
    "plt.title('Swarm plot at num_students_seen=250')\n",
    "plt.ylabel('Proportion of optimal actions')\n",
    "plt.xticks(rotation=25)\n",
    "plt.tight_layout()\n",
    "plt.show()"
   ]
  },
  {
   "cell_type": "markdown",
   "metadata": {
    "id": "N165Oyz_ivsa"
   },
   "source": [
    "# Proportion of optimal actions over time horizon"
   ]
  },
  {
   "cell_type": "code",
   "execution_count": 24,
   "metadata": {
    "executionInfo": {
     "elapsed": 275,
     "status": "ok",
     "timestamp": 1604634927181,
     "user": {
      "displayName": "Zhihan Yang",
      "photoUrl": "",
      "userId": "13640957592474416801"
     },
     "user_tz": -480
    },
    "id": "SgIwyj_6iwRL"
   },
   "outputs": [],
   "source": [
    "def calc_poa_over_time(df):\n",
    "    poa_over_time = pd.DataFrame(df['MatchesOptimalExpectedAction'].expanding().mean())\n",
    "    poa_over_time.rename(columns = {'MatchesOptimalExpectedAction':'PropOptimalAction'}, inplace = True)\n",
    "    poa_over_time['num_students_seen'] = poa_over_time.index\n",
    "    return poa_over_time.iloc[99::50, :]"
   ]
  },
  {
   "cell_type": "code",
   "execution_count": 25,
   "metadata": {
    "executionInfo": {
     "elapsed": 12078,
     "status": "ok",
     "timestamp": 1604634940185,
     "user": {
      "displayName": "Zhihan Yang",
      "photoUrl": "",
      "userId": "13640957592474416801"
     },
     "user_tz": -480
    },
    "id": "PnKoXeZIme0i"
   },
   "outputs": [],
   "source": [
    "noncontextual_poa_over_time = n0_reader.calc_df(calc_poa_over_time, noncontextual_only=True)\n",
    "n0_poa_over_time = n0_reader.calc_df(calc_poa_over_time, contextual_only=True)\n",
    "n25_poa_over_time = n25_reader.calc_df(calc_poa_over_time, contextual_only=True)\n",
    "n50_poa_over_time = n50_reader.calc_df(calc_poa_over_time, contextual_only=True)\n",
    "n75_poa_over_time = n75_reader.calc_df(calc_poa_over_time, contextual_only=True)\n",
    "n100_poa_over_time = n100_reader.calc_df(calc_poa_over_time, contextual_only=True)"
   ]
  },
  {
   "cell_type": "markdown",
   "metadata": {},
   "source": [
    "## Median and percentiles"
   ]
  },
  {
   "cell_type": "code",
   "execution_count": 26,
   "metadata": {},
   "outputs": [],
   "source": [
    "xs = noncontextual_poa_over_time.groupby(\"num_students_seen\").median().index.to_numpy().flatten()\n",
    "\n",
    "ys_median = noncontextual_poa_over_time.groupby(\"num_students_seen\").median().to_numpy().flatten()\n",
    "ys_25 = noncontextual_poa_over_time.groupby(\"num_students_seen\").quantile(0.25).to_numpy().flatten()\n",
    "ys_75 = noncontextual_poa_over_time.groupby(\"num_students_seen\").quantile(0.75).to_numpy().flatten()\n",
    "\n",
    "ys_n0_median = n0_poa_over_time.groupby(\"num_students_seen\").median().to_numpy().flatten()\n",
    "ys_n0_25 = n0_poa_over_time.groupby(\"num_students_seen\").quantile(0.25).to_numpy().flatten()\n",
    "ys_n0_75 = n0_poa_over_time.groupby(\"num_students_seen\").quantile(0.75).to_numpy().flatten()\n",
    "\n",
    "ys_n25_median = n25_poa_over_time.groupby(\"num_students_seen\").median().to_numpy().flatten()\n",
    "ys_n25_25 = n25_poa_over_time.groupby(\"num_students_seen\").quantile(0.25).to_numpy().flatten()\n",
    "ys_n25_75 = n25_poa_over_time.groupby(\"num_students_seen\").quantile(0.75).to_numpy().flatten()\n",
    "\n",
    "ys_n50_median = n50_poa_over_time.groupby(\"num_students_seen\").median().to_numpy().flatten()\n",
    "ys_n50_25 = n50_poa_over_time.groupby(\"num_students_seen\").quantile(0.25).to_numpy().flatten()\n",
    "ys_n50_75 = n50_poa_over_time.groupby(\"num_students_seen\").quantile(0.75).to_numpy().flatten()\n",
    "\n",
    "ys_n75_median = n75_poa_over_time.groupby(\"num_students_seen\").median().to_numpy().flatten()\n",
    "ys_n75_25 = n75_poa_over_time.groupby(\"num_students_seen\").quantile(0.25).to_numpy().flatten()\n",
    "ys_n75_75 = n75_poa_over_time.groupby(\"num_students_seen\").quantile(0.75).to_numpy().flatten()\n",
    "\n",
    "ys_n100_median = n100_poa_over_time.groupby(\"num_students_seen\").median().to_numpy().flatten()\n",
    "ys_n100_25 = n100_poa_over_time.groupby(\"num_students_seen\").quantile(0.25).to_numpy().flatten()\n",
    "ys_n100_75 = n100_poa_over_time.groupby(\"num_students_seen\").quantile(0.75).to_numpy().flatten()"
   ]
  },
  {
   "cell_type": "code",
   "execution_count": 34,
   "metadata": {
    "scrolled": false
   },
   "outputs": [
    {
     "data": {
      "image/png": "[encoded data removed]",
      "text/plain": [
       "<Figure size 504x504 with 1 Axes>"
      ]
     },
     "metadata": {
      "needs_background": "light"
     },
     "output_type": "display_data"
    }
   ],
   "source": [
    "fig = plt.figure(figsize=(7, 7))\n",
    "\n",
    "ax = fig.add_subplot(111)\n",
    "\n",
    "plt.plot(xs, ys_median, label='noncontextual')\n",
    "plt.fill_between(xs, ys_25, ys_75, alpha=0.15)\n",
    "\n",
    "plt.plot(xs, ys_n0_median, label='n=0 (default)')\n",
    "plt.fill_between(xs, ys_n0_25, ys_n0_75, alpha=0.15)\n",
    "\n",
    "plt.plot(xs, ys_n25_median, label='n=25')\n",
    "plt.fill_between(xs, ys_n25_25, ys_n25_75, alpha=0.15)\n",
    "\n",
    "plt.plot(xs, ys_n50_median, label='n=50')\n",
    "plt.fill_between(xs, ys_n50_25, ys_n50_75, alpha=0.15)\n",
    "\n",
    "plt.plot(xs, ys_n75_median, label='n=75')\n",
    "plt.fill_between(xs, ys_n75_25, ys_n75_75, alpha=0.15)\n",
    "\n",
    "plt.plot(xs, ys_n100_median, label='n=100')\n",
    "plt.fill_between(xs, ys_n100_25, ys_n100_75, alpha=0.15)\n",
    "\n",
    "plt.xlabel('Number of students seen')\n",
    "plt.ylabel('Proportion of optimal action')\n",
    "plt.legend(loc='lower right')\n",
    "\n",
    "plt.grid()\n",
    "plt.ylim(0.45, 0.95)\n",
    "\n",
    "plt.title('Median & Percentiles')\n",
    "plt.tight_layout()\n",
    "plt.show()"
   ]
  },
  {
   "cell_type": "markdown",
   "metadata": {},
   "source": [
    "## Mean and std"
   ]
  },
  {
   "cell_type": "code",
   "execution_count": 32,
   "metadata": {
    "colab": {
     "base_uri": "https://localhost:8080/",
     "height": 502
    },
    "executionInfo": {
     "elapsed": 6434,
     "status": "ok",
     "timestamp": 1604635119617,
     "user": {
      "displayName": "Zhihan Yang",
      "photoUrl": "",
      "userId": "13640957592474416801"
     },
     "user_tz": -480
    },
    "id": "i_F8yDIVmoeV",
    "outputId": "c6034ac7-f885-4a8c-98da-71035b514ad4"
   },
   "outputs": [
    {
     "data": {
      "image/png": "[encoded data removed]",
      "text/plain": [
       "<Figure size 504x504 with 1 Axes>"
      ]
     },
     "metadata": {
      "needs_background": "light"
     },
     "output_type": "display_data"
    }
   ],
   "source": [
    "fig = plt.figure(figsize=(7, 7))\n",
    "\n",
    "ax = fig.add_subplot(111)\n",
    "\n",
    "sns.lineplot(x=\"num_students_seen\", y=\"PropOptimalAction\",\n",
    "             data=noncontextual_poa_over_time, ci='sd', label='Non-contextual', ax=ax)\n",
    "\n",
    "sns.lineplot(x=\"num_students_seen\", y=\"PropOptimalAction\",\n",
    "             data=n0_poa_over_time, ci='sd', label='n=0 (default)', ax=ax)\n",
    "sns.lineplot(x=\"num_students_seen\", y=\"PropOptimalAction\",\n",
    "             data=n25_poa_over_time, ci='sd', label='n=25', ax=ax)\n",
    "sns.lineplot(x=\"num_students_seen\", y=\"PropOptimalAction\",\n",
    "             data=n50_poa_over_time, ci='sd', label='n=50', ax=ax)\n",
    "sns.lineplot(x=\"num_students_seen\", y=\"PropOptimalAction\",\n",
    "             data=n75_poa_over_time, ci='sd', label='n=75', ax=ax)\n",
    "sns.lineplot(x=\"num_students_seen\", y=\"PropOptimalAction\",\n",
    "             data=n100_poa_over_time, ci='sd', label='n=100', ax=ax)\n",
    "\n",
    "plt.legend(loc='lower right')\n",
    "plt.xlabel('Number of students seen')\n",
    "plt.ylabel('Proportion of optimal actions')\n",
    "plt.title('Mean & Std')\n",
    "\n",
    "plt.ylim(0.45, 0.95)\n",
    "\n",
    "plt.grid()\n",
    "plt.show()"
   ]
  },
  {
   "cell_type": "markdown",
   "metadata": {
    "id": "erLiV5r0nUrO"
   },
   "source": [
    "# Coefficient plot for each arm"
   ]
  },
  {
   "cell_type": "code",
   "execution_count": 42,
   "metadata": {
    "executionInfo": {
     "elapsed": 1114,
     "status": "ok",
     "timestamp": 1604632304898,
     "user": {
      "displayName": "Zhihan Yang",
      "photoUrl": "",
      "userId": "13640957592474416801"
     },
     "user_tz": -480
    },
    "id": "PKMdu96pnXM8"
   },
   "outputs": [],
   "source": [
    "arm1_true = [-0.4054651081081643, 0, 0.8109302162163285, 0, 0, 0, 0, 0, 0, 0, 0]\n",
    "arm2_true = [0.4054651081081642, 0, -0.8109302162163285, 0, 0, 0, 0, 0, 0, 0, 0]"
   ]
  },
  {
   "cell_type": "code",
   "execution_count": 43,
   "metadata": {
    "executionInfo": {
     "elapsed": 475,
     "status": "ok",
     "timestamp": 1604632304903,
     "user": {
      "displayName": "Zhihan Yang",
      "photoUrl": "",
      "userId": "13640957592474416801"
     },
     "user_tz": -480
    },
    "id": "lAZbRoLYoVd1"
   },
   "outputs": [],
   "source": [
    "def grab_final_coeff(df):\n",
    "\n",
    "    last_student = df[-1:]\n",
    "\n",
    "    arm1_coeffs = []\n",
    "    for coeff_idx, coeff_val in enumerate(list(map(float, last_student['Action1EstimatedMu'].tolist()[0].split(',')))):\n",
    "        arm1_coeffs.append([coeff_idx, coeff_val])\n",
    "    arm1_coeffs = pd.DataFrame(arm1_coeffs, columns=['coeff_idx', 'coeff_val'])\n",
    "    arm1_coeffs['arm_idx'] = 1\n",
    "\n",
    "    arm2_coeffs = []\n",
    "    for coeff_idx, coeff_val in enumerate(list(map(float, last_student['Action2EstimatedMu'].tolist()[0].split(',')))):\n",
    "        arm2_coeffs.append([coeff_idx, coeff_val])\n",
    "    arm2_coeffs = pd.DataFrame(arm2_coeffs, columns=['coeff_idx', 'coeff_val'])\n",
    "    arm2_coeffs['arm_idx'] = 2\n",
    "\n",
    "    return pd.concat([arm1_coeffs, arm2_coeffs])"
   ]
  },
  {
   "cell_type": "code",
   "execution_count": 44,
   "metadata": {
    "executionInfo": {
     "elapsed": 7722,
     "status": "ok",
     "timestamp": 1604632328782,
     "user": {
      "displayName": "Zhihan Yang",
      "photoUrl": "",
      "userId": "13640957592474416801"
     },
     "user_tz": -480
    },
    "id": "O8hGyveCsaYj"
   },
   "outputs": [],
   "source": [
    "df_coeff = lambda1_reader.calc_df(grab_final_coeff, contextual_only=True)"
   ]
  },
  {
   "cell_type": "code",
   "execution_count": 45,
   "metadata": {
    "executionInfo": {
     "elapsed": 5467,
     "status": "ok",
     "timestamp": 1604632343358,
     "user": {
      "displayName": "Zhihan Yang",
      "photoUrl": "",
      "userId": "13640957592474416801"
     },
     "user_tz": -480
    },
    "id": "V_A1fexpsTai"
   },
   "outputs": [],
   "source": [
    "df_regularized_coeff = lambda1t_reader.calc_df(grab_final_coeff, contextual_only=True)"
   ]
  },
  {
   "cell_type": "code",
   "execution_count": 46,
   "metadata": {
    "executionInfo": {
     "elapsed": 756,
     "status": "ok",
     "timestamp": 1604632345690,
     "user": {
      "displayName": "Zhihan Yang",
      "photoUrl": "",
      "userId": "13640957592474416801"
     },
     "user_tz": -480
    },
    "id": "MM7uNza4s-62"
   },
   "outputs": [],
   "source": [
    "df_coeff['lambda'] = 1\n",
    "df_regularized_coeff['lambda'] = 1000\n",
    "df_both_coeff = pd.concat([df_coeff, df_regularized_coeff])"
   ]
  },
  {
   "cell_type": "code",
   "execution_count": 47,
   "metadata": {
    "colab": {
     "base_uri": "https://localhost:8080/",
     "height": 501
    },
    "executionInfo": {
     "elapsed": 5360,
     "status": "ok",
     "timestamp": 1604632353784,
     "user": {
      "displayName": "Zhihan Yang",
      "photoUrl": "",
      "userId": "13640957592474416801"
     },
     "user_tz": -480
    },
    "id": "EbBtTIgQoREv",
    "outputId": "ccd6888d-bbd2-4137-a1c3-3df3a1aed9ac"
   },
   "outputs": [
    {
     "data": {
      "image/png": "[encoded data removed]",
      "text/plain": [
       "<Figure size 1213.12x576 with 2 Axes>"
      ]
     },
     "metadata": {
      "needs_background": "light"
     },
     "output_type": "display_data"
    }
   ],
   "source": [
    "g = sns.catplot(x=\"coeff_idx\", y=\"coeff_val\",\n",
    "                hue=\"lambda\", col=\"arm_idx\",\n",
    "                data=df_both_coeff, kind=\"bar\",\n",
    "                height=8, aspect=1);"
   ]
  },
  {
   "cell_type": "markdown",
   "metadata": {
    "id": "F5KUwQIUoTg-"
   },
   "source": [
    "# Policy Variation"
   ]
  },
  {
   "cell_type": "code",
   "execution_count": 73,
   "metadata": {},
   "outputs": [],
   "source": [
    "def convert2mod_groupA(features):\n",
    "    \n",
    "    mod_features = np.zeros(11)\n",
    "    mod_features[0] = 1  # for multiplying with intercept\n",
    "    mod_features[1] = 1\n",
    "    \n",
    "    indices_of_ones = np.array([3, 5, 7, 9]) + features  # clever indexing trick ;D\n",
    "    mod_features[indices_of_ones] = 1\n",
    "    \n",
    "    return mod_features"
   ]
  },
  {
   "cell_type": "code",
   "execution_count": 74,
   "metadata": {},
   "outputs": [],
   "source": [
    "assert np.sum(np.abs(convert2mod_groupA(np.array([0, 0, 0, 0])) - np.array([1, 1, 0, 1, 0, 1, 0, 1, 0, 1, 0]))) == 0\n",
    "assert np.sum(np.abs(convert2mod_groupA(np.array([1, 0, 0, 0])) - np.array([1, 1, 0, 0, 1, 1, 0, 1, 0, 1, 0]))) == 0\n",
    "assert np.sum(np.abs(convert2mod_groupA(np.array([0, 1, 1, 0])) - np.array([1, 1, 0, 1, 0, 0, 1, 0, 1, 1, 0]))) == 0"
   ]
  },
  {
   "cell_type": "code",
   "execution_count": 69,
   "metadata": {},
   "outputs": [],
   "source": [
    "def calc_max_policy_variation_groupA(df):\n",
    "\n",
    "    last_student = df[-1:]\n",
    "\n",
    "    arm1_coeffs = np.array(list(map(float, last_student['Action1EstimatedMu'].tolist()[0].split(','))))\n",
    "\n",
    "    arm1_probas = []\n",
    "    for row in np.array(list(itertools.product([0, 1], repeat=4))):\n",
    "        arm1_probas.append(expit(np.dot(arm1_coeffs, convert2mod_groupA(row))))\n",
    "\n",
    "    return pd.DataFrame([[np.max(arm1_probas)-np.min(arm1_probas)]], columns=['max_policy_variation'])"
   ]
  },
  {
   "cell_type": "code",
   "execution_count": 58,
   "metadata": {},
   "outputs": [],
   "source": [
    "def convert2mod_groupB(features):\n",
    "    \n",
    "    \"mod for mod contextual features\"\n",
    "    \n",
    "    mod_features = np.zeros(11)\n",
    "    mod_features[0] = 1  # for multiplying with intercept\n",
    "    mod_features[2] = 1\n",
    "    \n",
    "    indices_of_ones = np.array([3, 5, 7, 9]) + features  # clever indexing trick ;D\n",
    "    mod_features[indices_of_ones] = 1\n",
    "    \n",
    "    return mod_features"
   ]
  },
  {
   "cell_type": "code",
   "execution_count": 59,
   "metadata": {},
   "outputs": [],
   "source": [
    "assert np.sum(np.abs(convert2mod_groupB(np.array([0, 0, 0, 0])) - np.array([1, 0, 1, 1, 0, 1, 0, 1, 0, 1, 0]))) == 0\n",
    "assert np.sum(np.abs(convert2mod_groupB(np.array([1, 0, 0, 0])) - np.array([1, 0, 1, 0, 1, 1, 0, 1, 0, 1, 0]))) == 0\n",
    "assert np.sum(np.abs(convert2mod_groupB(np.array([0, 1, 1, 0])) - np.array([1, 0, 1, 1, 0, 0, 1, 0, 1, 1, 0]))) == 0"
   ]
  },
  {
   "cell_type": "code",
   "execution_count": 60,
   "metadata": {},
   "outputs": [],
   "source": [
    "def calc_max_policy_variation_groupB(df):\n",
    "\n",
    "    last_student = df[-1:]\n",
    "\n",
    "    arm1_coeffs = np.array(list(map(float, last_student['Action1EstimatedMu'].tolist()[0].split(','))))\n",
    "\n",
    "    arm1_probas = []\n",
    "    for row in np.array(list(itertools.product([0, 1], repeat=4))):\n",
    "        arm1_probas.append(expit(np.dot(arm1_coeffs, convert2mod_groupB(row))))\n",
    "\n",
    "    return pd.DataFrame([[np.max(arm1_probas)-np.min(arm1_probas)]], columns=['max_policy_variation'])"
   ]
  },
  {
   "cell_type": "code",
   "execution_count": 75,
   "metadata": {},
   "outputs": [],
   "source": [
    "df_mpv_lambda1_groupA = lambda1_reader.calc_df(calc_max_policy_variation_groupA, contextual_only=True)\n",
    "df_mpv_lambda1_groupA['type'] = r'$\\lambda=10^0$'\n",
    "\n",
    "df_mpv_lambda1t_groupA = lambda1t_reader.calc_df(calc_max_policy_variation_groupA, contextual_only=True)\n",
    "df_mpv_lambda1t_groupA['type'] = r'$\\lambda=10^3$'\n",
    "\n",
    "df_mpv_lambda1m_groupA = lambda1m_reader.calc_df(calc_max_policy_variation_groupA, contextual_only=True)\n",
    "df_mpv_lambda1m_groupA['type'] = r'$\\lambda=10^6$'\n",
    "\n",
    "df_mpv_groupA = pd.concat([df_mpv_lambda1_groupA, df_mpv_lambda1t_groupA, df_mpv_lambda1m_groupA])"
   ]
  },
  {
   "cell_type": "code",
   "execution_count": 76,
   "metadata": {},
   "outputs": [],
   "source": [
    "df_mpv_lambda1_groupB = lambda1_reader.calc_df(calc_max_policy_variation_groupB, contextual_only=True)\n",
    "df_mpv_lambda1_groupB['type'] = r'$\\lambda=10^0$'\n",
    "\n",
    "df_mpv_lambda1t_groupB = lambda1t_reader.calc_df(calc_max_policy_variation_groupB, contextual_only=True)\n",
    "df_mpv_lambda1t_groupB['type'] = r'$\\lambda=10^3$'\n",
    "\n",
    "df_mpv_lambda1m_groupB = lambda1m_reader.calc_df(calc_max_policy_variation_groupB, contextual_only=True)\n",
    "df_mpv_lambda1m_groupB['type'] = r'$\\lambda=10^6$'\n",
    "\n",
    "df_mpv_groupB = pd.concat([df_mpv_lambda1_groupB, df_mpv_lambda1t_groupB, df_mpv_lambda1m_groupB])"
   ]
  },
  {
   "cell_type": "code",
   "execution_count": 82,
   "metadata": {},
   "outputs": [
    {
     "name": "stderr",
     "output_type": "stream",
     "text": [
      "/home/yangz2/miniconda3/envs/mab/lib/python3.9/site-packages/seaborn/categorical.py:1296: UserWarning: 91.2% of the points cannot be placed; you may want to decrease the size of the markers or use stripplot.\n",
      "  warnings.warn(msg, UserWarning)\n",
      "/home/yangz2/miniconda3/envs/mab/lib/python3.9/site-packages/seaborn/categorical.py:1296: UserWarning: 91.5% of the points cannot be placed; you may want to decrease the size of the markers or use stripplot.\n",
      "  warnings.warn(msg, UserWarning)\n"
     ]
    },
    {
     "data": {
      "image/png": "[encoded data removed]",
      "text/plain": [
       "<Figure size 936x432 with 2 Axes>"
      ]
     },
     "metadata": {
      "needs_background": "light"
     },
     "output_type": "display_data"
    }
   ],
   "source": [
    "fig = plt.figure(figsize=(13, 6))\n",
    "plt.rcParams.update({'font.size':12})\n",
    "\n",
    "ax = fig.add_subplot(121)\n",
    "\n",
    "sns.swarmplot(\n",
    "    x='type', y='max_policy_variation',\n",
    "    size=2,\n",
    "    data=df_mpv_groupA, \n",
    "    ax=ax,\n",
    "    order=[r'$\\lambda=10^0$', r'$\\lambda=10^3$', r'$\\lambda=10^6$']\n",
    ")\n",
    "\n",
    "plt.ylim(-0.05, 1.05)\n",
    "\n",
    "plt.title('Feature 1 is off')\n",
    "plt.ylabel('Max policy variation')\n",
    "plt.xlabel('Strength of regularization')\n",
    "\n",
    "ax = fig.add_subplot(122)\n",
    "\n",
    "sns.swarmplot(\n",
    "    x='type', y='max_policy_variation',\n",
    "    size=2,\n",
    "    data=df_mpv_groupB, \n",
    "    ax=ax,\n",
    "    order=[r'$\\lambda=10^0$', r'$\\lambda=10^3$', r'$\\lambda=10^6$']\n",
    ")\n",
    "\n",
    "plt.ylim(-0.05, 1.05)\n",
    "\n",
    "plt.title('Feature 1 is on')\n",
    "plt.ylabel('Max policy variation')\n",
    "plt.xlabel('Strength of regularization')\n",
    "\n",
    "plt.suptitle('Swarm plot of max policy variation - C5_G50_Crossover')\n",
    "\n",
    "plt.savefig('c5_g50_crossover_maxPolicyVariation_swarmPlot.png', dpi=100)"
   ]
  },
  {
   "cell_type": "code",
   "execution_count": null,
   "metadata": {},
   "outputs": [],
   "source": []
  },
  {
   "cell_type": "code",
   "execution_count": null,
   "metadata": {},
   "outputs": [],
   "source": []
  }
 ],
 "metadata": {
  "colab": {
   "collapsed_sections": [],
   "name": "Regularization.ipynb",
   "provenance": [
    {
     "file_id": "1xmXDN_mXk3v-exIVcw__p6qdNJuSpOgE",
     "timestamp": 1603791595512
    }
   ]
  },
  "kernelspec": {
   "display_name": "Python 3",
   "language": "python",
   "name": "python3"
  },
  "language_info": {
   "codemirror_mode": {
    "name": "ipython",
    "version": 3
   },
   "file_extension": ".py",
   "mimetype": "text/x-python",
   "name": "python",
   "nbconvert_exporter": "python",
   "pygments_lexer": "ipython3",
   "version": "3.9.0"
  },
  "toc": {
   "base_numbering": 1,
   "nav_menu": {},
   "number_sections": true,
   "sideBar": true,
   "skip_h1_title": false,
   "title_cell": "Table of Contents",
   "title_sidebar": "Contents",
   "toc_cell": false,
   "toc_position": {
    "height": "calc(100% - 180px)",
    "left": "10px",
    "top": "150px",
    "width": "320px"
   },
   "toc_section_display": true,
   "toc_window_display": false
  },
  "varInspector": {
   "cols": {
    "lenName": 16,
    "lenType": 16,
    "lenVar": 40
   },
   "kernels_config": {
    "python": {
     "delete_cmd_postfix": "",
     "delete_cmd_prefix": "del ",
     "library": "var_list.py",
     "varRefreshCmd": "print(var_dic_list())"
    },
    "r": {
     "delete_cmd_postfix": ") ",
     "delete_cmd_prefix": "rm(",
     "library": "var_list.r",
     "varRefreshCmd": "cat(var_dic_list()) "
    }
   },
   "types_to_exclude": [
    "module",
    "function",
    "builtin_function_or_method",
    "instance",
    "_Feature"
   ],
   "window_display": false
  }
 },
 "nbformat": 4,
 "nbformat_minor": 1
}
