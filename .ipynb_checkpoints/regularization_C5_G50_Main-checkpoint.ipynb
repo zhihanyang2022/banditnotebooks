{
 "cells": [
  {
   "cell_type": "markdown",
   "metadata": {
    "id": "rY1qA_-Uytoc"
   },
   "source": [
    "# TOP"
   ]
  },
  {
   "cell_type": "code",
   "execution_count": 1,
   "metadata": {
    "colab": {
     "base_uri": "https://localhost:8080/"
    },
    "executionInfo": {
     "elapsed": 285,
     "status": "ok",
     "timestamp": 1604630464268,
     "user": {
      "displayName": "Zhihan Yang",
      "photoUrl": "",
      "userId": "13640957592474416801"
     },
     "user_tz": -480
    },
    "id": "Jk1k1zb84s0w",
    "outputId": "ffb27871-b16a-489b-b98b-99ab06f736e5"
   },
   "outputs": [
    {
     "name": "stdout",
     "output_type": "stream",
     "text": [
      "Helloworld!\n"
     ]
    }
   ],
   "source": [
    "print('Helloworld!')"
   ]
  },
  {
   "cell_type": "code",
   "execution_count": 29,
   "metadata": {
    "executionInfo": {
     "elapsed": 339,
     "status": "ok",
     "timestamp": 1604631013774,
     "user": {
      "displayName": "Zhihan Yang",
      "photoUrl": "",
      "userId": "13640957592474416801"
     },
     "user_tz": -480
    },
    "id": "9x4YE8iczUeM"
   },
   "outputs": [],
   "source": [
    "import matplotlib as mpl\n",
    "# mpl.use('Agg')\n",
    "import matplotlib.pyplot as plt\n",
    "import seaborn as sns\n",
    "import numpy as np\n",
    "import pandas as pd\n",
    "import glob as glob\n",
    "import os\n",
    "import sys\n",
    "import re\n",
    "import itertools\n",
    "from multiprocessing import Pool\n",
    "from functools import partial\n",
    "from tqdm.notebook import tqdm\n",
    "import time\n",
    "import os"
   ]
  },
  {
   "cell_type": "code",
   "execution_count": 3,
   "metadata": {
    "executionInfo": {
     "elapsed": 243,
     "status": "ok",
     "timestamp": 1604631874002,
     "user": {
      "displayName": "Zhihan Yang",
      "photoUrl": "",
      "userId": "13640957592474416801"
     },
     "user_tz": -480
    },
    "id": "l2Da6a0Mf0t1"
   },
   "outputs": [],
   "source": [
    "def read_csv(filename):\n",
    "    'converts a filename to a pandas dataframe'\n",
    "    return pd.read_csv(filename, header=1)"
   ]
  },
  {
   "cell_type": "code",
   "execution_count": 4,
   "metadata": {
    "executionInfo": {
     "elapsed": 426,
     "status": "ok",
     "timestamp": 1604634566107,
     "user": {
      "displayName": "Zhihan Yang",
      "photoUrl": "",
      "userId": "13640957592474416801"
     },
     "user_tz": -480
    },
    "id": "euXWaLA0bhES"
   },
   "outputs": [],
   "source": [
    "class DFReader:\n",
    "\n",
    "    \"\"\"A modified approach to calc_df so that dfs don't have to be read in again and again.\"\"\"\n",
    "\n",
    "    def __init__(self, directory):\n",
    "\n",
    "        print(directory)\n",
    "\n",
    "        start = time.time()\n",
    "        \n",
    "        self.df_contextual_list = []\n",
    "        task_list = glob.glob(os.path.join(directory, 'CompareBanditActionsOut_ModContextual*.csv'))\n",
    "        with Pool(processes=8) as pool:\n",
    "            self.df_contextual_list = pool.map(read_csv, task_list)\n",
    "\n",
    "        # for i, f in tqdm(list(enumerate(task_list)), leave=True, desc='Contextual: ', unit='csv'):\n",
    "        #     self.df_contextual_list.append(pd.io.parsers.read_csv(f, header=1))\n",
    "\n",
    "        self.df_noncontextual_list = []\n",
    "        task_list = glob.glob(os.path.join(directory, 'CompareBanditActionsOut_NonContextual*.csv'))\n",
    "        with Pool(processes=8) as pool:\n",
    "            self.df_noncontextual_list = pool.map(read_csv, task_list)\n",
    "\n",
    "        # self.df_noncontextual_list = []\n",
    "        # for i, f in tqdm(list(enumerate(glob.glob(os.path.join(directory, 'CompareBanditActionsOut_NonContextual*.csv')))), leave=True, desc='Non-contextual: ', unit='csv'):\n",
    "        #     self.df_noncontextual_list.append(pd.io.parsers.read_csv(f, header=1))\n",
    "\n",
    "        end = time.time()\n",
    "\n",
    "        print(f'Took {round(end - start, 2)} seconds.')\n",
    "    \n",
    "    def calc_df(self, calc_func, num_students=None, generate_example_file=False, contextual_only=False, noncontextual_only=False):\n",
    "\n",
    "        if contextual_only and noncontextual_only:\n",
    "            print(\"[Error] Only one of contextual_only and noncontextual_only can be true.\")\n",
    "            return\n",
    "\n",
    "        # ==========\n",
    "\n",
    "        if generate_example_file:\n",
    "            one_unprocessed_df = self.df_contextual_list[0]\n",
    "            return one_unprocessed_df\n",
    "\n",
    "        if num_students is None:\n",
    "            df_contextual_list = [calc_func(df) for df in self.df_contextual_list]\n",
    "        else:\n",
    "            df_contextual_list = [calc_func(df[:num_students]) for df in self.df_contextual_list]\n",
    "        \n",
    "        df_contextual = pd.concat(df_contextual_list)\n",
    "        if contextual_only:  # for coefficient plots\n",
    "            return df_contextual\n",
    "        df_contextual[\"Type\"] = 'Contextual'\n",
    "        \n",
    "        if num_students is None:\n",
    "            df_noncontextual_list = [calc_func(df) for df in self.df_noncontextual_list]\n",
    "        else:\n",
    "            df_noncontextual_list = [calc_func(df[:num_students]) for df in self.df_noncontextual_list]\n",
    "\n",
    "        df_noncontextual = pd.concat(df_noncontextual_list)\n",
    "        if noncontextual_only:\n",
    "            return df_noncontextual\n",
    "        df_noncontextual[\"Type\"] = 'Non Contextual'\n",
    "    \n",
    "        df = pd.concat([df_contextual, df_noncontextual])\n",
    "        \n",
    "        return df"
   ]
  },
  {
   "cell_type": "code",
   "execution_count": 5,
   "metadata": {},
   "outputs": [
    {
     "data": {
      "text/plain": [
       "3001"
      ]
     },
     "execution_count": 5,
     "metadata": {},
     "output_type": "execute_result"
    }
   ],
   "source": [
    "len(os.listdir('/home/yangz2/disk2/contextualBanditSimsNoEffect/PosterData/C5_G50_Main/'))"
   ]
  },
  {
   "cell_type": "code",
   "execution_count": 6,
   "metadata": {
    "colab": {
     "base_uri": "https://localhost:8080/"
    },
    "executionInfo": {
     "elapsed": 11949,
     "status": "ok",
     "timestamp": 1604632052267,
     "user": {
      "displayName": "Zhihan Yang",
      "photoUrl": "",
      "userId": "13640957592474416801"
     },
     "user_tz": -480
    },
    "id": "MkFHP1kHgS60",
    "outputId": "61941b83-222c-41b8-de9a-0832794ba70b"
   },
   "outputs": [
    {
     "name": "stdout",
     "output_type": "stream",
     "text": [
      "/home/yangz2/disk2/contextualBanditSimsNoEffect/PosterData/C5_G50_Main/\n",
      "Took 4.67 seconds.\n"
     ]
    }
   ],
   "source": [
    "dfr = DFReader('/home/yangz2/disk2/contextualBanditSimsNoEffect/PosterData/C5_G50_Main/')"
   ]
  },
  {
   "cell_type": "code",
   "execution_count": 7,
   "metadata": {
    "executionInfo": {
     "elapsed": 812,
     "status": "ok",
     "timestamp": 1604630466416,
     "user": {
      "displayName": "Zhihan Yang",
      "photoUrl": "",
      "userId": "13640957592474416801"
     },
     "user_tz": -480
    },
    "id": "SsKQBpxN1ni2"
   },
   "outputs": [],
   "source": [
    "def calc_df(directory, calc_func, num_students=None, generate_example_file=False, contextual_only=False):\n",
    "    '''Combine contextual and noncontextual dataframes, calculating the value \n",
    "    (indicated by calc_func) in the process'''\n",
    "\n",
    "    sample_size = sys.maxsize\n",
    "\n",
    "    df_contextual_list = [pd.io.parsers.read_csv(f, header=1) for i, f in \n",
    "                          enumerate(glob.glob(os.path.join(directory, 'CompareBanditActionsOut_ModContextual*.csv'))) if i < sample_size]\n",
    "    df_noncontextual_list = [pd.io.parsers.read_csv(f, header=1) for i, f in \n",
    "                             enumerate(glob.glob(os.path.join(directory, 'CompareBanditActionsOut_NonContextual*.csv'))) if i < sample_size]\n",
    "\n",
    "    if generate_example_file:\n",
    "        one_unprocessed_df = df_contextual_list[0]\n",
    "        return one_unprocessed_df\n",
    "\n",
    "    if len(df_contextual_list) == 0 or len(df_noncontextual_list) == 0:\n",
    "        return None\n",
    "    else:\n",
    "        print(directory)\n",
    "\n",
    "    if num_students is None:\n",
    "        df_contextual_list = [calc_func(df) for df in df_contextual_list]\n",
    "    else:\n",
    "        df_contextual_list = [calc_func(df[:num_students]) for df in df_contextual_list]\n",
    "    \n",
    "    df_contextual = pd.concat(df_contextual_list)\n",
    "    if contextual_only:  # for coefficient plots\n",
    "        return df_contextual\n",
    "    df_contextual[\"Type\"] = 'Contextual'\n",
    "    \n",
    "    if num_students is None:\n",
    "        df_noncontextual_list = [calc_func(df) for df in df_noncontextual_list]\n",
    "    else:\n",
    "        df_noncontextual_list = [calc_func(df[:num_students]) for df in df_noncontextual_list]\n",
    "\n",
    "    df_noncontextual = pd.concat(df_noncontextual_list)\n",
    "    df_noncontextual[\"Type\"] = 'Non Contextual'\n",
    " \n",
    "    df = pd.concat([df_contextual, df_noncontextual])\n",
    "    \n",
    "    return df"
   ]
  },
  {
   "cell_type": "code",
   "execution_count": 8,
   "metadata": {
    "executionInfo": {
     "elapsed": 500,
     "status": "ok",
     "timestamp": 1604630466419,
     "user": {
      "displayName": "Zhihan Yang",
      "photoUrl": "",
      "userId": "13640957592474416801"
     },
     "user_tz": -480
    },
    "id": "2Zbzf0ZRbo2e"
   },
   "outputs": [],
   "source": [
    "def calc_df_scalar(directory, calc_func, num_students=None):\n",
    "    '''Combine contextual and noncontextual dataframes, calculating the value \n",
    "    (indicated by calc_func) in the process'''\n",
    "    sample_size = sys.maxsize\n",
    "    \n",
    "    df_contextual_list = [pd.read_csv(f, header=1) for i, f in \n",
    "                          enumerate(glob.glob(os.path.join(directory, 'CompareBanditActionsOut_ModContextual*.csv'))) if i < sample_size]\n",
    "    df_noncontextual_list = [pd.read_csv(f, header=1) for i, f in \n",
    "                             enumerate(glob.glob(os.path.join(directory, 'CompareBanditActionsOut_NonContextual*.csv'))) if i < sample_size]\n",
    "\n",
    "    if len(df_contextual_list) == 0 or len(df_noncontextual_list) == 0:\n",
    "        return None\n",
    "    else:\n",
    "        print(directory)\n",
    "\n",
    "    if num_students is None:\n",
    "        df_contextual_list = [calc_func(df) for df in df_contextual_list]\n",
    "    else:\n",
    "        df_contextual_list = [calc_func(df[:num_students]) for df in df_contextual_list]\n",
    "    \n",
    "    # df_contextual = pd.concat(df_contextual_list)\n",
    "    # df_contextual[\"Type\"] = 'Contextual'\n",
    "    \n",
    "    if num_students is None:\n",
    "        df_noncontextual_list = [calc_func(df) for df in df_noncontextual_list]\n",
    "    else:\n",
    "        df_noncontextual_list = [calc_func(df[:num_students]) for df in df_noncontextual_list]\n",
    "\n",
    "    # df_noncontextual = pd.concat(df_noncontextual_list)\n",
    "    # df_noncontextual[\"Type\"] = 'Non Contextual'\n",
    " \n",
    "    # df = pd.concat([df_contextual, df_noncontextual])\n",
    "    \n",
    "    return df_contextual_list, df_noncontextual_list"
   ]
  },
  {
   "cell_type": "code",
   "execution_count": 9,
   "metadata": {
    "executionInfo": {
     "elapsed": 467,
     "status": "ok",
     "timestamp": 1604630466660,
     "user": {
      "displayName": "Zhihan Yang",
      "photoUrl": "",
      "userId": "13640957592474416801"
     },
     "user_tz": -480
    },
    "id": "0SOR6fjgbGf2"
   },
   "outputs": [],
   "source": [
    "def calc_df_knn(directory, calc_func, num_students=None):\n",
    "    '''Combine contextual and noncontextual dataframes, calculating the value \n",
    "    (indicated by calc_func) in the process'''\n",
    "    sample_size = sys.maxsize\n",
    "    \n",
    "    df_contextual_list = [pd.read_csv(f, header=1) for i, f in \n",
    "                          enumerate(glob.glob(os.path.join(directory, 'CompareBanditActionsOut_ModContextual*.csv'))) if i < sample_size]\n",
    "    df_noncontextual_list = [pd.read_csv(f) for i, f in \n",
    "                             enumerate(glob.glob(os.path.join(directory, 'CompareBanditActionsOut_knn*.csv'))) if i < sample_size]\n",
    "    \n",
    "    if len(df_contextual_list) == 0 or len(df_noncontextual_list) == 0:\n",
    "        return None\n",
    "    else:\n",
    "        print(directory)\n",
    "\n",
    "    if num_students is None:\n",
    "        df_contextual_list = [calc_func(df) for df in df_contextual_list]\n",
    "    else:\n",
    "        df_contextual_list = [calc_func(df[:num_students]) for df in df_contextual_list]\n",
    "    \n",
    "    df_contextual = pd.concat(df_contextual_list)\n",
    "    df_contextual[\"Type\"] = 'Contextual'\n",
    "    \n",
    "    if num_students is None:\n",
    "        df_noncontextual_list = [calc_func(df) for df in df_noncontextual_list]\n",
    "    else:\n",
    "        df_noncontextual_list = [calc_func(df[:num_students]) for df in df_noncontextual_list]\n",
    "\n",
    "    df_noncontextual = pd.concat(df_noncontextual_list)\n",
    "    df_noncontextual[\"Type\"] = 'knn'\n",
    " \n",
    "    df = pd.concat([df_contextual, df_noncontextual])\n",
    "    \n",
    "    return df"
   ]
  },
  {
   "cell_type": "code",
   "execution_count": 13,
   "metadata": {
    "executionInfo": {
     "elapsed": 402,
     "status": "ok",
     "timestamp": 1604630466954,
     "user": {
      "displayName": "Zhihan Yang",
      "photoUrl": "",
      "userId": "13640957592474416801"
     },
     "user_tz": -480
    },
    "id": "75K9F2E53Hs_"
   },
   "outputs": [],
   "source": [
    "def calc_arm_counts(df, start_range=3/4):\n",
    "    df = df.loc[int(len(df)*start_range):]\n",
    "    df = df[\"AlgorithmAction\"].value_counts(normalize=True)\n",
    "    df = df.rename_axis('Arm').reset_index(name='Frequency')\n",
    "    return df\n",
    "\n",
    "def graph_arm_count_distribution(df):\n",
    "    title = 'Arm Count Normalized Histogram Last Quarter'\n",
    "    g = sns.FacetGrid(data=df, col=\"Arm\", hue='Type')\n",
    "    g = g.map(sns.distplot, \"Frequency\", bins=np.linspace(0, 1, 30), norm_hist=True, kde=False)\n",
    "    g.add_legend()\n",
    "    g.set_ylabels(\"PDF\")\n",
    "    g.savefig(title)"
   ]
  },
  {
   "cell_type": "code",
   "execution_count": 14,
   "metadata": {
    "executionInfo": {
     "elapsed": 725,
     "status": "ok",
     "timestamp": 1604630467553,
     "user": {
      "displayName": "Zhihan Yang",
      "photoUrl": "",
      "userId": "13640957592474416801"
     },
     "user_tz": -480
    },
    "id": "Pbtbk0GX3KQt"
   },
   "outputs": [],
   "source": [
    "def calc_total_reward(df):\n",
    "    df = df[['n', 'contextualVariable0', 'ObservedRewardofAction']]\n",
    "    df = df.groupby(['contextualVariable0'], group_keys=False)['ObservedRewardofAction'].expanding().sum()\n",
    "    df = df.to_frame('Total Reward').reset_index().rename(index=str, columns={'level_1': 'n'})\n",
    "    return df\n",
    "\n",
    "def graph_total_reward(df):\n",
    "    title = 'Total Reward against Trials'\n",
    "    g = sns.FacetGrid(data=df, col=\"Type\", hue='contextualVariable0')\n",
    "    g = g.map_dataframe(sns.lineplot, x='n', y='Total Reward', ci=None) # ci=68)\n",
    "    g.add_legend()\n",
    "    g.set_ylabels(\"Total Reward\")\n",
    "    g.set_xlabels(\"Trials\")\n",
    "    g.savefig(title)"
   ]
  },
  {
   "cell_type": "code",
   "execution_count": 15,
   "metadata": {
    "executionInfo": {
     "elapsed": 481,
     "status": "ok",
     "timestamp": 1604630467591,
     "user": {
      "displayName": "Zhihan Yang",
      "photoUrl": "",
      "userId": "13640957592474416801"
     },
     "user_tz": -480
    },
    "id": "vQYteznP3N5V"
   },
   "outputs": [],
   "source": [
    "def calc_arm_reward_probabilities(df):\n",
    "    df = df.set_index('n')\n",
    "    df = df.filter(regex=(\"Action[\\d.]+EstimatedProb\"))\n",
    "    df = df.rename(columns=lambda x: re.sub(r'(Action)([\\d.]+)[\\w]+', r\"\\2\", x))\n",
    "    df = df.reset_index()\n",
    "    df = df.melt('n', var_name='Arm',  value_name='Arm Reward Probabilities')\n",
    "    return df\n",
    "\n",
    "def graph_arm_reward_probabilities(df):\n",
    "    title = 'Arm Reward Probabilities'\n",
    "    g = sns.FacetGrid(data=df, col=\"Type\", hue='Arm')\n",
    "    g = g.map_dataframe(sns.lineplot, x='n', y='Arm Reward Probabilities', ci=None) # ci=68)\n",
    "    g.add_legend()\n",
    "    g.set_ylabels(\"Arm Reward Probabilities\")\n",
    "    g.set_xlabels(\"Trials\")\n",
    "    g.savefig(title)"
   ]
  },
  {
   "cell_type": "code",
   "execution_count": 16,
   "metadata": {
    "executionInfo": {
     "elapsed": 880,
     "status": "ok",
     "timestamp": 1604630468347,
     "user": {
      "displayName": "Zhihan Yang",
      "photoUrl": "",
      "userId": "13640957592474416801"
     },
     "user_tz": -480
    },
    "id": "M2BQ4qrm3Qpz"
   },
   "outputs": [],
   "source": [
    "def calc_arm_proportion_rolling_mean(df, rolling_percentage=0.25):\n",
    "    max_trial = df['n'].max()+1\n",
    "    max_action = df['AlgorithmAction'].max()+1\n",
    "    df = df.groupby(['n', 'AlgorithmAction']).AlgorithmAction.count()\n",
    "\n",
    "    levels = [list(range(0, max_trial)), list(range(1, max_action))]\n",
    "    idx = pd.MultiIndex.from_product(levels, names=df.index.names)\n",
    "\n",
    "    # Reindex the df_noncontextual_action_count and fill empty values with zero (NaN by default)\n",
    "    df = df.reindex(idx, fill_value=0)\n",
    "    df = df.transform(lambda x: (x/(max_trial)*100))\n",
    "    df = df.swaplevel().groupby('AlgorithmAction', group_keys=False).rolling(int(rolling_percentage*max_trial), min_periods=1).mean()\n",
    "    df = df.to_frame('rolling_mean').reset_index()\n",
    "    return df\n",
    "\n",
    "def graph_arm_rolling_proportion(df):\n",
    "    title = 'Arm action rolling proportion against trials'\n",
    "    g = sns.FacetGrid(data=df, col=\"Type\", hue='AlgorithmAction')\n",
    "    g = g.map_dataframe(sns.lineplot, x='n', y='rolling_mean', ci=None)\n",
    "    g.add_legend()\n",
    "    g.set_ylabels(\"Arm action rolling proportion\")\n",
    "    g.set_xlabels(\"Trials\")\n",
    "    g.savefig(title)"
   ]
  },
  {
   "cell_type": "code",
   "execution_count": 17,
   "metadata": {
    "executionInfo": {
     "elapsed": 767,
     "status": "ok",
     "timestamp": 1604630468595,
     "user": {
      "displayName": "Zhihan Yang",
      "photoUrl": "",
      "userId": "13640957592474416801"
     },
     "user_tz": -480
    },
    "id": "eeR_d2zd3UOf"
   },
   "outputs": [],
   "source": [
    "def calc_total_reward_histogram(df):\n",
    "    df = df[['n', 'contextualVariable0', 'ObservedRewardofAction']]\n",
    "    df = df.groupby(['contextualVariable0'], group_keys=False)['ObservedRewardofAction'].expanding().sum()\n",
    "    df = df.to_frame('Total Reward').reset_index().rename(index=str, columns={'level_1': 'n'})\n",
    "    df = df[df['n'] == 999]\n",
    "    df = df.drop('n', axis=1)\n",
    "    return df\n",
    "\n",
    "def graph_total_reward_distribution(df):\n",
    "    title = 'Total Reward Histogram'\n",
    "    g = sns.FacetGrid(data=df, col=\"Type\", hue='contextualVariable0')\n",
    "    g = g.map(sns.distplot, \"Total Reward\", kde=False)\n",
    "    g.add_legend()\n",
    "    g.set_ylabels(\"PDF\")\n",
    "    g.savefig(title)"
   ]
  },
  {
   "cell_type": "code",
   "execution_count": null,
   "metadata": {
    "executionInfo": {
     "elapsed": 515,
     "status": "ok",
     "timestamp": 1604630468814,
     "user": {
      "displayName": "Zhihan Yang",
      "photoUrl": "",
      "userId": "13640957592474416801"
     },
     "user_tz": -480
    },
    "id": "C1sncVPwdl2p"
   },
   "outputs": [],
   "source": []
  },
  {
   "cell_type": "markdown",
   "metadata": {
    "id": "RmOfWhtWeqat"
   },
   "source": [
    "# Read in CSVs for later analysis"
   ]
  },
  {
   "cell_type": "code",
   "execution_count": 93,
   "metadata": {},
   "outputs": [
    {
     "name": "stdout",
     "output_type": "stream",
     "text": [
      "/home/yangz2/disk2/contextualBanditSimsNoEffect/PosterData/C5_G50_Main/\n",
      "Took 5.97 seconds.\n",
      "/home/yangz2/disk2/contextualBanditSimsNoEffect/PosterData/C5_G50_Main_lambda1000/\n",
      "Took 6.11 seconds.\n",
      "/home/yangz2/contextualBanditSimsNoEffect/PosterData/C5_G50_Main_lambda1m/\n",
      "Took 1.32 seconds.\n"
     ]
    }
   ],
   "source": [
    "lambda1_reader = DFReader(directory='/home/yangz2/disk2/contextualBanditSimsNoEffect/PosterData/C5_G50_Main/')\n",
    "lambda1t_reader = DFReader(directory='/home/yangz2/disk2/contextualBanditSimsNoEffect/PosterData/C5_G50_Main_lambda1000/')"
   ]
  },
  {
   "cell_type": "code",
   "execution_count": 95,
   "metadata": {},
   "outputs": [
    {
     "name": "stdout",
     "output_type": "stream",
     "text": [
      "/home/yangz2/disk2/contextualBanditSimsNoEffect/PosterData/C5_G50_Main_lambda1m/\n",
      "Took 6.77 seconds.\n"
     ]
    }
   ],
   "source": [
    "lambda1m_reader = DFReader(directory='/home/yangz2/disk2/contextualBanditSimsNoEffect/PosterData/C5_G50_Main_lambda1m/')"
   ]
  },
  {
   "cell_type": "code",
   "execution_count": 124,
   "metadata": {},
   "outputs": [
    {
     "data": {
      "text/html": [
       "<div>\n",
       "<style scoped>\n",
       "    .dataframe tbody tr th:only-of-type {\n",
       "        vertical-align: middle;\n",
       "    }\n",
       "\n",
       "    .dataframe tbody tr th {\n",
       "        vertical-align: top;\n",
       "    }\n",
       "\n",
       "    .dataframe thead th {\n",
       "        text-align: right;\n",
       "    }\n",
       "</style>\n",
       "<table border=\"1\" class=\"dataframe\">\n",
       "  <thead>\n",
       "    <tr style=\"text-align: right;\">\n",
       "      <th></th>\n",
       "      <th>n</th>\n",
       "      <th>contextualVariable0</th>\n",
       "      <th>contextualVariable1</th>\n",
       "      <th>contextualVariable2</th>\n",
       "      <th>contextualVariable3</th>\n",
       "      <th>contextualVariable4</th>\n",
       "      <th>Action1OracleActualReward</th>\n",
       "      <th>Action2OracleActualReward</th>\n",
       "      <th>ExpectedOptimalAction</th>\n",
       "      <th>Action1OracleProbReward</th>\n",
       "      <th>...</th>\n",
       "      <th>ProbAction2IsBest</th>\n",
       "      <th>Action2Sample</th>\n",
       "      <th>Action2SuccessCount</th>\n",
       "      <th>Action2FailureCount</th>\n",
       "      <th>Action2EstimatedProb</th>\n",
       "      <th>Action2EstimatedMu</th>\n",
       "      <th>Action2EstimatedVariance</th>\n",
       "      <th>Action2EstimatedAlpha</th>\n",
       "      <th>Action2EstimatedBeta</th>\n",
       "      <th>Action2EstimatedArmVariance</th>\n",
       "    </tr>\n",
       "  </thead>\n",
       "  <tbody>\n",
       "    <tr>\n",
       "      <th>0</th>\n",
       "      <td>0</td>\n",
       "      <td>1</td>\n",
       "      <td>1</td>\n",
       "      <td>0</td>\n",
       "      <td>1</td>\n",
       "      <td>0</td>\n",
       "      <td>1</td>\n",
       "      <td>1</td>\n",
       "      <td>2</td>\n",
       "      <td>0.6</td>\n",
       "      <td>...</td>\n",
       "      <td>NaN</td>\n",
       "      <td>0.017193</td>\n",
       "      <td>NaN</td>\n",
       "      <td>NaN</td>\n",
       "      <td>0.500749</td>\n",
       "      <td>0.0004992511238740244,0.0,0.000499251123874024...</td>\n",
       "      <td>0.0009997500630449141,0.001,0.0009997500630449...</td>\n",
       "      <td>NaN</td>\n",
       "      <td>NaN</td>\n",
       "      <td>NaN</td>\n",
       "    </tr>\n",
       "    <tr>\n",
       "      <th>1</th>\n",
       "      <td>1</td>\n",
       "      <td>1</td>\n",
       "      <td>0</td>\n",
       "      <td>1</td>\n",
       "      <td>1</td>\n",
       "      <td>1</td>\n",
       "      <td>1</td>\n",
       "      <td>1</td>\n",
       "      <td>2</td>\n",
       "      <td>0.6</td>\n",
       "      <td>...</td>\n",
       "      <td>NaN</td>\n",
       "      <td>-0.024167</td>\n",
       "      <td>NaN</td>\n",
       "      <td>NaN</td>\n",
       "      <td>0.500374</td>\n",
       "      <td>0.0004992511238740244,0.0,0.000499251123874024...</td>\n",
       "      <td>0.0009997500630449141,0.001,0.0009997500630449...</td>\n",
       "      <td>NaN</td>\n",
       "      <td>NaN</td>\n",
       "      <td>NaN</td>\n",
       "    </tr>\n",
       "    <tr>\n",
       "      <th>2</th>\n",
       "      <td>2</td>\n",
       "      <td>1</td>\n",
       "      <td>0</td>\n",
       "      <td>1</td>\n",
       "      <td>1</td>\n",
       "      <td>1</td>\n",
       "      <td>0</td>\n",
       "      <td>0</td>\n",
       "      <td>2</td>\n",
       "      <td>0.6</td>\n",
       "      <td>...</td>\n",
       "      <td>NaN</td>\n",
       "      <td>0.030721</td>\n",
       "      <td>NaN</td>\n",
       "      <td>NaN</td>\n",
       "      <td>0.499999</td>\n",
       "      <td>0.0004981306149479926,0.0,0.000498130614947992...</td>\n",
       "      <td>0.0009992505638956387,0.001,0.0009992505638956...</td>\n",
       "      <td>NaN</td>\n",
       "      <td>NaN</td>\n",
       "      <td>NaN</td>\n",
       "    </tr>\n",
       "    <tr>\n",
       "      <th>3</th>\n",
       "      <td>3</td>\n",
       "      <td>1</td>\n",
       "      <td>0</td>\n",
       "      <td>0</td>\n",
       "      <td>1</td>\n",
       "      <td>1</td>\n",
       "      <td>0</td>\n",
       "      <td>1</td>\n",
       "      <td>2</td>\n",
       "      <td>0.6</td>\n",
       "      <td>...</td>\n",
       "      <td>NaN</td>\n",
       "      <td>0.034621</td>\n",
       "      <td>NaN</td>\n",
       "      <td>NaN</td>\n",
       "      <td>0.500373</td>\n",
       "      <td>0.0004981306149479926,0.0,0.000498130614947992...</td>\n",
       "      <td>0.0009992505638956387,0.001,0.0009992505638956...</td>\n",
       "      <td>NaN</td>\n",
       "      <td>NaN</td>\n",
       "      <td>NaN</td>\n",
       "    </tr>\n",
       "    <tr>\n",
       "      <th>4</th>\n",
       "      <td>4</td>\n",
       "      <td>1</td>\n",
       "      <td>0</td>\n",
       "      <td>0</td>\n",
       "      <td>1</td>\n",
       "      <td>0</td>\n",
       "      <td>0</td>\n",
       "      <td>1</td>\n",
       "      <td>2</td>\n",
       "      <td>0.6</td>\n",
       "      <td>...</td>\n",
       "      <td>NaN</td>\n",
       "      <td>0.013242</td>\n",
       "      <td>NaN</td>\n",
       "      <td>NaN</td>\n",
       "      <td>0.501617</td>\n",
       "      <td>0.0009939053873713865,0.0,0.000993905387371386...</td>\n",
       "      <td>0.000998502255530305,0.001,0.00099850225553030...</td>\n",
       "      <td>NaN</td>\n",
       "      <td>NaN</td>\n",
       "      <td>NaN</td>\n",
       "    </tr>\n",
       "    <tr>\n",
       "      <th>...</th>\n",
       "      <td>...</td>\n",
       "      <td>...</td>\n",
       "      <td>...</td>\n",
       "      <td>...</td>\n",
       "      <td>...</td>\n",
       "      <td>...</td>\n",
       "      <td>...</td>\n",
       "      <td>...</td>\n",
       "      <td>...</td>\n",
       "      <td>...</td>\n",
       "      <td>...</td>\n",
       "      <td>...</td>\n",
       "      <td>...</td>\n",
       "      <td>...</td>\n",
       "      <td>...</td>\n",
       "      <td>...</td>\n",
       "      <td>...</td>\n",
       "      <td>...</td>\n",
       "      <td>...</td>\n",
       "      <td>...</td>\n",
       "      <td>...</td>\n",
       "    </tr>\n",
       "    <tr>\n",
       "      <th>995</th>\n",
       "      <td>995</td>\n",
       "      <td>0</td>\n",
       "      <td>1</td>\n",
       "      <td>0</td>\n",
       "      <td>1</td>\n",
       "      <td>0</td>\n",
       "      <td>0</td>\n",
       "      <td>1</td>\n",
       "      <td>2</td>\n",
       "      <td>0.4</td>\n",
       "      <td>...</td>\n",
       "      <td>NaN</td>\n",
       "      <td>0.282455</td>\n",
       "      <td>NaN</td>\n",
       "      <td>NaN</td>\n",
       "      <td>0.639275</td>\n",
       "      <td>0.21235226745093533,-0.1508475134400913,0.4841...</td>\n",
       "      <td>1.0318063929246672e-05,1.7890172955041093e-05,...</td>\n",
       "      <td>NaN</td>\n",
       "      <td>NaN</td>\n",
       "      <td>NaN</td>\n",
       "    </tr>\n",
       "    <tr>\n",
       "      <th>996</th>\n",
       "      <td>996</td>\n",
       "      <td>0</td>\n",
       "      <td>0</td>\n",
       "      <td>0</td>\n",
       "      <td>1</td>\n",
       "      <td>1</td>\n",
       "      <td>0</td>\n",
       "      <td>0</td>\n",
       "      <td>2</td>\n",
       "      <td>0.4</td>\n",
       "      <td>...</td>\n",
       "      <td>NaN</td>\n",
       "      <td>0.210991</td>\n",
       "      <td>NaN</td>\n",
       "      <td>NaN</td>\n",
       "      <td>0.603487</td>\n",
       "      <td>0.21232779561795095,-0.151026431018133,0.48436...</td>\n",
       "      <td>1.0297061743294845e-05,1.7854073946161784e-05,...</td>\n",
       "      <td>NaN</td>\n",
       "      <td>NaN</td>\n",
       "      <td>NaN</td>\n",
       "    </tr>\n",
       "    <tr>\n",
       "      <th>997</th>\n",
       "      <td>997</td>\n",
       "      <td>1</td>\n",
       "      <td>1</td>\n",
       "      <td>0</td>\n",
       "      <td>0</td>\n",
       "      <td>0</td>\n",
       "      <td>0</td>\n",
       "      <td>0</td>\n",
       "      <td>2</td>\n",
       "      <td>0.6</td>\n",
       "      <td>...</td>\n",
       "      <td>NaN</td>\n",
       "      <td>0.581193</td>\n",
       "      <td>NaN</td>\n",
       "      <td>NaN</td>\n",
       "      <td>0.790753</td>\n",
       "      <td>0.21229568921022154,-0.15120478085903166,0.484...</td>\n",
       "      <td>1.027612592273516e-05,1.7818116038484947e-05,2...</td>\n",
       "      <td>NaN</td>\n",
       "      <td>NaN</td>\n",
       "      <td>NaN</td>\n",
       "    </tr>\n",
       "    <tr>\n",
       "      <th>998</th>\n",
       "      <td>998</td>\n",
       "      <td>1</td>\n",
       "      <td>0</td>\n",
       "      <td>1</td>\n",
       "      <td>0</td>\n",
       "      <td>0</td>\n",
       "      <td>1</td>\n",
       "      <td>1</td>\n",
       "      <td>2</td>\n",
       "      <td>0.6</td>\n",
       "      <td>...</td>\n",
       "      <td>NaN</td>\n",
       "      <td>0.655450</td>\n",
       "      <td>NaN</td>\n",
       "      <td>NaN</td>\n",
       "      <td>0.828700</td>\n",
       "      <td>0.21226576504405067,-0.15138196736992163,0.484...</td>\n",
       "      <td>1.0255258762947394e-05,1.7782298539770745e-05,...</td>\n",
       "      <td>NaN</td>\n",
       "      <td>NaN</td>\n",
       "      <td>NaN</td>\n",
       "    </tr>\n",
       "    <tr>\n",
       "      <th>999</th>\n",
       "      <td>999</td>\n",
       "      <td>1</td>\n",
       "      <td>1</td>\n",
       "      <td>1</td>\n",
       "      <td>0</td>\n",
       "      <td>1</td>\n",
       "      <td>1</td>\n",
       "      <td>1</td>\n",
       "      <td>2</td>\n",
       "      <td>0.6</td>\n",
       "      <td>...</td>\n",
       "      <td>NaN</td>\n",
       "      <td>0.406325</td>\n",
       "      <td>NaN</td>\n",
       "      <td>NaN</td>\n",
       "      <td>0.704918</td>\n",
       "      <td>0.21223923039684553,-0.151557928092008,0.48485...</td>\n",
       "      <td>1.0234453184386416e-05,1.7746620791157306e-05,...</td>\n",
       "      <td>NaN</td>\n",
       "      <td>NaN</td>\n",
       "      <td>NaN</td>\n",
       "    </tr>\n",
       "  </tbody>\n",
       "</table>\n",
       "<p>1000 rows × 40 columns</p>\n",
       "</div>"
      ],
      "text/plain": [
       "       n  contextualVariable0  contextualVariable1  contextualVariable2  \\\n",
       "0      0                    1                    1                    0   \n",
       "1      1                    1                    0                    1   \n",
       "2      2                    1                    0                    1   \n",
       "3      3                    1                    0                    0   \n",
       "4      4                    1                    0                    0   \n",
       "..   ...                  ...                  ...                  ...   \n",
       "995  995                    0                    1                    0   \n",
       "996  996                    0                    0                    0   \n",
       "997  997                    1                    1                    0   \n",
       "998  998                    1                    0                    1   \n",
       "999  999                    1                    1                    1   \n",
       "\n",
       "     contextualVariable3  contextualVariable4  Action1OracleActualReward  \\\n",
       "0                      1                    0                          1   \n",
       "1                      1                    1                          1   \n",
       "2                      1                    1                          0   \n",
       "3                      1                    1                          0   \n",
       "4                      1                    0                          0   \n",
       "..                   ...                  ...                        ...   \n",
       "995                    1                    0                          0   \n",
       "996                    1                    1                          0   \n",
       "997                    0                    0                          0   \n",
       "998                    0                    0                          1   \n",
       "999                    0                    1                          1   \n",
       "\n",
       "     Action2OracleActualReward  ExpectedOptimalAction  \\\n",
       "0                            1                      2   \n",
       "1                            1                      2   \n",
       "2                            0                      2   \n",
       "3                            1                      2   \n",
       "4                            1                      2   \n",
       "..                         ...                    ...   \n",
       "995                          1                      2   \n",
       "996                          0                      2   \n",
       "997                          0                      2   \n",
       "998                          1                      2   \n",
       "999                          1                      2   \n",
       "\n",
       "     Action1OracleProbReward  ...  ProbAction2IsBest  Action2Sample  \\\n",
       "0                        0.6  ...                NaN       0.017193   \n",
       "1                        0.6  ...                NaN      -0.024167   \n",
       "2                        0.6  ...                NaN       0.030721   \n",
       "3                        0.6  ...                NaN       0.034621   \n",
       "4                        0.6  ...                NaN       0.013242   \n",
       "..                       ...  ...                ...            ...   \n",
       "995                      0.4  ...                NaN       0.282455   \n",
       "996                      0.4  ...                NaN       0.210991   \n",
       "997                      0.6  ...                NaN       0.581193   \n",
       "998                      0.6  ...                NaN       0.655450   \n",
       "999                      0.6  ...                NaN       0.406325   \n",
       "\n",
       "     Action2SuccessCount  Action2FailureCount  Action2EstimatedProb  \\\n",
       "0                    NaN                  NaN              0.500749   \n",
       "1                    NaN                  NaN              0.500374   \n",
       "2                    NaN                  NaN              0.499999   \n",
       "3                    NaN                  NaN              0.500373   \n",
       "4                    NaN                  NaN              0.501617   \n",
       "..                   ...                  ...                   ...   \n",
       "995                  NaN                  NaN              0.639275   \n",
       "996                  NaN                  NaN              0.603487   \n",
       "997                  NaN                  NaN              0.790753   \n",
       "998                  NaN                  NaN              0.828700   \n",
       "999                  NaN                  NaN              0.704918   \n",
       "\n",
       "                                    Action2EstimatedMu  \\\n",
       "0    0.0004992511238740244,0.0,0.000499251123874024...   \n",
       "1    0.0004992511238740244,0.0,0.000499251123874024...   \n",
       "2    0.0004981306149479926,0.0,0.000498130614947992...   \n",
       "3    0.0004981306149479926,0.0,0.000498130614947992...   \n",
       "4    0.0009939053873713865,0.0,0.000993905387371386...   \n",
       "..                                                 ...   \n",
       "995  0.21235226745093533,-0.1508475134400913,0.4841...   \n",
       "996  0.21232779561795095,-0.151026431018133,0.48436...   \n",
       "997  0.21229568921022154,-0.15120478085903166,0.484...   \n",
       "998  0.21226576504405067,-0.15138196736992163,0.484...   \n",
       "999  0.21223923039684553,-0.151557928092008,0.48485...   \n",
       "\n",
       "                              Action2EstimatedVariance  Action2EstimatedAlpha  \\\n",
       "0    0.0009997500630449141,0.001,0.0009997500630449...                    NaN   \n",
       "1    0.0009997500630449141,0.001,0.0009997500630449...                    NaN   \n",
       "2    0.0009992505638956387,0.001,0.0009992505638956...                    NaN   \n",
       "3    0.0009992505638956387,0.001,0.0009992505638956...                    NaN   \n",
       "4    0.000998502255530305,0.001,0.00099850225553030...                    NaN   \n",
       "..                                                 ...                    ...   \n",
       "995  1.0318063929246672e-05,1.7890172955041093e-05,...                    NaN   \n",
       "996  1.0297061743294845e-05,1.7854073946161784e-05,...                    NaN   \n",
       "997  1.027612592273516e-05,1.7818116038484947e-05,2...                    NaN   \n",
       "998  1.0255258762947394e-05,1.7782298539770745e-05,...                    NaN   \n",
       "999  1.0234453184386416e-05,1.7746620791157306e-05,...                    NaN   \n",
       "\n",
       "     Action2EstimatedBeta  Action2EstimatedArmVariance  \n",
       "0                     NaN                          NaN  \n",
       "1                     NaN                          NaN  \n",
       "2                     NaN                          NaN  \n",
       "3                     NaN                          NaN  \n",
       "4                     NaN                          NaN  \n",
       "..                    ...                          ...  \n",
       "995                   NaN                          NaN  \n",
       "996                   NaN                          NaN  \n",
       "997                   NaN                          NaN  \n",
       "998                   NaN                          NaN  \n",
       "999                   NaN                          NaN  \n",
       "\n",
       "[1000 rows x 40 columns]"
      ]
     },
     "execution_count": 124,
     "metadata": {},
     "output_type": "execute_result"
    }
   ],
   "source": [
    "lambda1t_reader.df_contextual_list[0]"
   ]
  },
  {
   "cell_type": "markdown",
   "metadata": {
    "id": "920WWlBy0v5E"
   },
   "source": [
    "# Mean and std of Total Reward"
   ]
  },
  {
   "cell_type": "code",
   "execution_count": 21,
   "metadata": {},
   "outputs": [],
   "source": [
    "df = lambda1_reader.calc_df(calc_total_reward)"
   ]
  },
  {
   "cell_type": "code",
   "execution_count": 20,
   "metadata": {
    "executionInfo": {
     "elapsed": 17725,
     "status": "ok",
     "timestamp": 1604632157264,
     "user": {
      "displayName": "Zhihan Yang",
      "photoUrl": "",
      "userId": "13640957592474416801"
     },
     "user_tz": -480
    },
    "id": "0Kgy3yVj4O6A"
   },
   "outputs": [],
   "source": [
    "df_regularized = lambda1t_reader.calc_df(calc_total_reward)"
   ]
  },
  {
   "cell_type": "code",
   "execution_count": 96,
   "metadata": {
    "executionInfo": {
     "elapsed": 17077,
     "status": "ok",
     "timestamp": 1604632180421,
     "user": {
      "displayName": "Zhihan Yang",
      "photoUrl": "",
      "userId": "13640957592474416801"
     },
     "user_tz": -480
    },
    "id": "wGULA5Ok_olD"
   },
   "outputs": [],
   "source": [
    "df_regularized_999999 = lambda1m_reader.calc_df(calc_total_reward)"
   ]
  },
  {
   "cell_type": "code",
   "execution_count": 22,
   "metadata": {
    "colab": {
     "base_uri": "https://localhost:8080/",
     "height": 204
    },
    "executionInfo": {
     "elapsed": 685,
     "status": "ok",
     "timestamp": 1603875142876,
     "user": {
      "displayName": "Zhihan Yang",
      "photoUrl": "",
      "userId": "13640957592474416801"
     },
     "user_tz": -480
    },
    "id": "rg3o0Q62qpp1",
    "outputId": "df4ac744-b0a4-4cb2-8561-926b195ee1bd"
   },
   "outputs": [
    {
     "data": {
      "text/html": [
       "<div>\n",
       "<style scoped>\n",
       "    .dataframe tbody tr th:only-of-type {\n",
       "        vertical-align: middle;\n",
       "    }\n",
       "\n",
       "    .dataframe tbody tr th {\n",
       "        vertical-align: top;\n",
       "    }\n",
       "\n",
       "    .dataframe thead th {\n",
       "        text-align: right;\n",
       "    }\n",
       "</style>\n",
       "<table border=\"1\" class=\"dataframe\">\n",
       "  <thead>\n",
       "    <tr style=\"text-align: right;\">\n",
       "      <th></th>\n",
       "      <th></th>\n",
       "      <th>n</th>\n",
       "      <th>Total Reward</th>\n",
       "    </tr>\n",
       "    <tr>\n",
       "      <th>contextualVariable0</th>\n",
       "      <th>Type</th>\n",
       "      <th></th>\n",
       "      <th></th>\n",
       "    </tr>\n",
       "  </thead>\n",
       "  <tbody>\n",
       "    <tr>\n",
       "      <th rowspan=\"2\" valign=\"top\">0</th>\n",
       "      <th>Contextual</th>\n",
       "      <td>999</td>\n",
       "      <td>284.322</td>\n",
       "    </tr>\n",
       "    <tr>\n",
       "      <th>Non Contextual</th>\n",
       "      <td>999</td>\n",
       "      <td>296.666</td>\n",
       "    </tr>\n",
       "    <tr>\n",
       "      <th rowspan=\"2\" valign=\"top\">1</th>\n",
       "      <th>Contextual</th>\n",
       "      <td>999</td>\n",
       "      <td>384.972</td>\n",
       "    </tr>\n",
       "    <tr>\n",
       "      <th>Non Contextual</th>\n",
       "      <td>999</td>\n",
       "      <td>395.910</td>\n",
       "    </tr>\n",
       "  </tbody>\n",
       "</table>\n",
       "</div>"
      ],
      "text/plain": [
       "                                      n  Total Reward\n",
       "contextualVariable0 Type                             \n",
       "0                   Contextual      999       284.322\n",
       "                    Non Contextual  999       296.666\n",
       "1                   Contextual      999       384.972\n",
       "                    Non Contextual  999       395.910"
      ]
     },
     "execution_count": 22,
     "metadata": {},
     "output_type": "execute_result"
    }
   ],
   "source": [
    "#num students is 129\n",
    "df[df['n'] == 999].groupby(['contextualVariable0', 'Type']).mean()"
   ]
  },
  {
   "cell_type": "code",
   "execution_count": 23,
   "metadata": {
    "colab": {
     "base_uri": "https://localhost:8080/",
     "height": 204
    },
    "executionInfo": {
     "elapsed": 477,
     "status": "ok",
     "timestamp": 1604632184763,
     "user": {
      "displayName": "Zhihan Yang",
      "photoUrl": "",
      "userId": "13640957592474416801"
     },
     "user_tz": -480
    },
    "id": "hewmyCB3aGb4",
    "outputId": "4f8446a4-5e70-4f95-db26-fdd505483eda"
   },
   "outputs": [
    {
     "data": {
      "text/html": [
       "<div>\n",
       "<style scoped>\n",
       "    .dataframe tbody tr th:only-of-type {\n",
       "        vertical-align: middle;\n",
       "    }\n",
       "\n",
       "    .dataframe tbody tr th {\n",
       "        vertical-align: top;\n",
       "    }\n",
       "\n",
       "    .dataframe thead th {\n",
       "        text-align: right;\n",
       "    }\n",
       "</style>\n",
       "<table border=\"1\" class=\"dataframe\">\n",
       "  <thead>\n",
       "    <tr style=\"text-align: right;\">\n",
       "      <th></th>\n",
       "      <th></th>\n",
       "      <th>n</th>\n",
       "      <th>Total Reward</th>\n",
       "    </tr>\n",
       "    <tr>\n",
       "      <th>contextualVariable0</th>\n",
       "      <th>Type</th>\n",
       "      <th></th>\n",
       "      <th></th>\n",
       "    </tr>\n",
       "  </thead>\n",
       "  <tbody>\n",
       "    <tr>\n",
       "      <th rowspan=\"2\" valign=\"top\">0</th>\n",
       "      <th>Contextual</th>\n",
       "      <td>999</td>\n",
       "      <td>296.211382</td>\n",
       "    </tr>\n",
       "    <tr>\n",
       "      <th>Non Contextual</th>\n",
       "      <td>999</td>\n",
       "      <td>297.268293</td>\n",
       "    </tr>\n",
       "    <tr>\n",
       "      <th rowspan=\"2\" valign=\"top\">1</th>\n",
       "      <th>Contextual</th>\n",
       "      <td>999</td>\n",
       "      <td>396.641732</td>\n",
       "    </tr>\n",
       "    <tr>\n",
       "      <th>Non Contextual</th>\n",
       "      <td>999</td>\n",
       "      <td>396.549213</td>\n",
       "    </tr>\n",
       "  </tbody>\n",
       "</table>\n",
       "</div>"
      ],
      "text/plain": [
       "                                      n  Total Reward\n",
       "contextualVariable0 Type                             \n",
       "0                   Contextual      999    296.211382\n",
       "                    Non Contextual  999    297.268293\n",
       "1                   Contextual      999    396.641732\n",
       "                    Non Contextual  999    396.549213"
      ]
     },
     "execution_count": 23,
     "metadata": {},
     "output_type": "execute_result"
    }
   ],
   "source": [
    "df_regularized[df_regularized['n'] == 999].groupby(['contextualVariable0', 'Type']).mean()"
   ]
  },
  {
   "cell_type": "code",
   "execution_count": 97,
   "metadata": {
    "colab": {
     "base_uri": "https://localhost:8080/",
     "height": 204
    },
    "executionInfo": {
     "elapsed": 495,
     "status": "ok",
     "timestamp": 1604632187469,
     "user": {
      "displayName": "Zhihan Yang",
      "photoUrl": "",
      "userId": "13640957592474416801"
     },
     "user_tz": -480
    },
    "id": "oRcznBn5_uqQ",
    "outputId": "c012d80d-ec69-4d4b-9ec7-8b2aeb431028"
   },
   "outputs": [
    {
     "data": {
      "text/html": [
       "<div>\n",
       "<style scoped>\n",
       "    .dataframe tbody tr th:only-of-type {\n",
       "        vertical-align: middle;\n",
       "    }\n",
       "\n",
       "    .dataframe tbody tr th {\n",
       "        vertical-align: top;\n",
       "    }\n",
       "\n",
       "    .dataframe thead th {\n",
       "        text-align: right;\n",
       "    }\n",
       "</style>\n",
       "<table border=\"1\" class=\"dataframe\">\n",
       "  <thead>\n",
       "    <tr style=\"text-align: right;\">\n",
       "      <th></th>\n",
       "      <th></th>\n",
       "      <th>n</th>\n",
       "      <th>Total Reward</th>\n",
       "    </tr>\n",
       "    <tr>\n",
       "      <th>contextualVariable0</th>\n",
       "      <th>Type</th>\n",
       "      <th></th>\n",
       "      <th></th>\n",
       "    </tr>\n",
       "  </thead>\n",
       "  <tbody>\n",
       "    <tr>\n",
       "      <th rowspan=\"2\" valign=\"top\">0</th>\n",
       "      <th>Contextual</th>\n",
       "      <td>999</td>\n",
       "      <td>291.656</td>\n",
       "    </tr>\n",
       "    <tr>\n",
       "      <th>Non Contextual</th>\n",
       "      <td>999</td>\n",
       "      <td>295.530</td>\n",
       "    </tr>\n",
       "    <tr>\n",
       "      <th rowspan=\"2\" valign=\"top\">1</th>\n",
       "      <th>Contextual</th>\n",
       "      <td>999</td>\n",
       "      <td>392.942</td>\n",
       "    </tr>\n",
       "    <tr>\n",
       "      <th>Non Contextual</th>\n",
       "      <td>999</td>\n",
       "      <td>396.590</td>\n",
       "    </tr>\n",
       "  </tbody>\n",
       "</table>\n",
       "</div>"
      ],
      "text/plain": [
       "                                      n  Total Reward\n",
       "contextualVariable0 Type                             \n",
       "0                   Contextual      999       291.656\n",
       "                    Non Contextual  999       295.530\n",
       "1                   Contextual      999       392.942\n",
       "                    Non Contextual  999       396.590"
      ]
     },
     "execution_count": 97,
     "metadata": {},
     "output_type": "execute_result"
    }
   ],
   "source": [
    "df_regularized_999999[df_regularized_999999['n'] == 999].groupby(['contextualVariable0', 'Type']).mean()"
   ]
  },
  {
   "cell_type": "code",
   "execution_count": 24,
   "metadata": {
    "colab": {
     "base_uri": "https://localhost:8080/",
     "height": 204
    },
    "executionInfo": {
     "elapsed": 721,
     "status": "ok",
     "timestamp": 1603875146767,
     "user": {
      "displayName": "Zhihan Yang",
      "photoUrl": "",
      "userId": "13640957592474416801"
     },
     "user_tz": -480
    },
    "id": "l5KZWNIwXsl9",
    "outputId": "ab5f936a-cea0-4e10-cbdc-a3f21fa601fe"
   },
   "outputs": [
    {
     "data": {
      "text/html": [
       "<div>\n",
       "<style scoped>\n",
       "    .dataframe tbody tr th:only-of-type {\n",
       "        vertical-align: middle;\n",
       "    }\n",
       "\n",
       "    .dataframe tbody tr th {\n",
       "        vertical-align: top;\n",
       "    }\n",
       "\n",
       "    .dataframe thead th {\n",
       "        text-align: right;\n",
       "    }\n",
       "</style>\n",
       "<table border=\"1\" class=\"dataframe\">\n",
       "  <thead>\n",
       "    <tr style=\"text-align: right;\">\n",
       "      <th></th>\n",
       "      <th></th>\n",
       "      <th>n</th>\n",
       "      <th>Total Reward</th>\n",
       "    </tr>\n",
       "    <tr>\n",
       "      <th>contextualVariable0</th>\n",
       "      <th>Type</th>\n",
       "      <th></th>\n",
       "      <th></th>\n",
       "    </tr>\n",
       "  </thead>\n",
       "  <tbody>\n",
       "    <tr>\n",
       "      <th rowspan=\"2\" valign=\"top\">0</th>\n",
       "      <th>Contextual</th>\n",
       "      <td>0.0</td>\n",
       "      <td>24.172442</td>\n",
       "    </tr>\n",
       "    <tr>\n",
       "      <th>Non Contextual</th>\n",
       "      <td>0.0</td>\n",
       "      <td>15.250561</td>\n",
       "    </tr>\n",
       "    <tr>\n",
       "      <th rowspan=\"2\" valign=\"top\">1</th>\n",
       "      <th>Contextual</th>\n",
       "      <td>0.0</td>\n",
       "      <td>25.085729</td>\n",
       "    </tr>\n",
       "    <tr>\n",
       "      <th>Non Contextual</th>\n",
       "      <td>0.0</td>\n",
       "      <td>15.522364</td>\n",
       "    </tr>\n",
       "  </tbody>\n",
       "</table>\n",
       "</div>"
      ],
      "text/plain": [
       "                                      n  Total Reward\n",
       "contextualVariable0 Type                             \n",
       "0                   Contextual      0.0     24.172442\n",
       "                    Non Contextual  0.0     15.250561\n",
       "1                   Contextual      0.0     25.085729\n",
       "                    Non Contextual  0.0     15.522364"
      ]
     },
     "execution_count": 24,
     "metadata": {},
     "output_type": "execute_result"
    }
   ],
   "source": [
    "df[df['n'] == 999].groupby(['contextualVariable0', 'Type']).std()"
   ]
  },
  {
   "cell_type": "code",
   "execution_count": 25,
   "metadata": {
    "colab": {
     "base_uri": "https://localhost:8080/",
     "height": 204
    },
    "executionInfo": {
     "elapsed": 1049,
     "status": "ok",
     "timestamp": 1604632193311,
     "user": {
      "displayName": "Zhihan Yang",
      "photoUrl": "",
      "userId": "13640957592474416801"
     },
     "user_tz": -480
    },
    "id": "E0eChXXlrokp",
    "outputId": "6df06f9c-816e-4dea-d39a-a5bfb4c45016"
   },
   "outputs": [
    {
     "data": {
      "text/html": [
       "<div>\n",
       "<style scoped>\n",
       "    .dataframe tbody tr th:only-of-type {\n",
       "        vertical-align: middle;\n",
       "    }\n",
       "\n",
       "    .dataframe tbody tr th {\n",
       "        vertical-align: top;\n",
       "    }\n",
       "\n",
       "    .dataframe thead th {\n",
       "        text-align: right;\n",
       "    }\n",
       "</style>\n",
       "<table border=\"1\" class=\"dataframe\">\n",
       "  <thead>\n",
       "    <tr style=\"text-align: right;\">\n",
       "      <th></th>\n",
       "      <th></th>\n",
       "      <th>n</th>\n",
       "      <th>Total Reward</th>\n",
       "    </tr>\n",
       "    <tr>\n",
       "      <th>contextualVariable0</th>\n",
       "      <th>Type</th>\n",
       "      <th></th>\n",
       "      <th></th>\n",
       "    </tr>\n",
       "  </thead>\n",
       "  <tbody>\n",
       "    <tr>\n",
       "      <th rowspan=\"2\" valign=\"top\">0</th>\n",
       "      <th>Contextual</th>\n",
       "      <td>0.0</td>\n",
       "      <td>16.016922</td>\n",
       "    </tr>\n",
       "    <tr>\n",
       "      <th>Non Contextual</th>\n",
       "      <td>0.0</td>\n",
       "      <td>14.159161</td>\n",
       "    </tr>\n",
       "    <tr>\n",
       "      <th rowspan=\"2\" valign=\"top\">1</th>\n",
       "      <th>Contextual</th>\n",
       "      <td>0.0</td>\n",
       "      <td>18.278084</td>\n",
       "    </tr>\n",
       "    <tr>\n",
       "      <th>Non Contextual</th>\n",
       "      <td>0.0</td>\n",
       "      <td>16.280927</td>\n",
       "    </tr>\n",
       "  </tbody>\n",
       "</table>\n",
       "</div>"
      ],
      "text/plain": [
       "                                      n  Total Reward\n",
       "contextualVariable0 Type                             \n",
       "0                   Contextual      0.0     16.016922\n",
       "                    Non Contextual  0.0     14.159161\n",
       "1                   Contextual      0.0     18.278084\n",
       "                    Non Contextual  0.0     16.280927"
      ]
     },
     "execution_count": 25,
     "metadata": {},
     "output_type": "execute_result"
    }
   ],
   "source": [
    "df_regularized[df_regularized['n'] == 999].groupby(['contextualVariable0', 'Type']).std()"
   ]
  },
  {
   "cell_type": "code",
   "execution_count": 98,
   "metadata": {
    "colab": {
     "base_uri": "https://localhost:8080/",
     "height": 204
    },
    "executionInfo": {
     "elapsed": 525,
     "status": "ok",
     "timestamp": 1604632195494,
     "user": {
      "displayName": "Zhihan Yang",
      "photoUrl": "",
      "userId": "13640957592474416801"
     },
     "user_tz": -480
    },
    "id": "EG2rpVCAZyCw",
    "outputId": "712aa440-a6a0-4b6e-dc3a-cea04ce04246"
   },
   "outputs": [
    {
     "data": {
      "text/html": [
       "<div>\n",
       "<style scoped>\n",
       "    .dataframe tbody tr th:only-of-type {\n",
       "        vertical-align: middle;\n",
       "    }\n",
       "\n",
       "    .dataframe tbody tr th {\n",
       "        vertical-align: top;\n",
       "    }\n",
       "\n",
       "    .dataframe thead th {\n",
       "        text-align: right;\n",
       "    }\n",
       "</style>\n",
       "<table border=\"1\" class=\"dataframe\">\n",
       "  <thead>\n",
       "    <tr style=\"text-align: right;\">\n",
       "      <th></th>\n",
       "      <th></th>\n",
       "      <th>n</th>\n",
       "      <th>Total Reward</th>\n",
       "    </tr>\n",
       "    <tr>\n",
       "      <th>contextualVariable0</th>\n",
       "      <th>Type</th>\n",
       "      <th></th>\n",
       "      <th></th>\n",
       "    </tr>\n",
       "  </thead>\n",
       "  <tbody>\n",
       "    <tr>\n",
       "      <th rowspan=\"2\" valign=\"top\">0</th>\n",
       "      <th>Contextual</th>\n",
       "      <td>0.0</td>\n",
       "      <td>15.798254</td>\n",
       "    </tr>\n",
       "    <tr>\n",
       "      <th>Non Contextual</th>\n",
       "      <td>0.0</td>\n",
       "      <td>16.399237</td>\n",
       "    </tr>\n",
       "    <tr>\n",
       "      <th rowspan=\"2\" valign=\"top\">1</th>\n",
       "      <th>Contextual</th>\n",
       "      <td>0.0</td>\n",
       "      <td>16.330831</td>\n",
       "    </tr>\n",
       "    <tr>\n",
       "      <th>Non Contextual</th>\n",
       "      <td>0.0</td>\n",
       "      <td>15.369787</td>\n",
       "    </tr>\n",
       "  </tbody>\n",
       "</table>\n",
       "</div>"
      ],
      "text/plain": [
       "                                      n  Total Reward\n",
       "contextualVariable0 Type                             \n",
       "0                   Contextual      0.0     15.798254\n",
       "                    Non Contextual  0.0     16.399237\n",
       "1                   Contextual      0.0     16.330831\n",
       "                    Non Contextual  0.0     15.369787"
      ]
     },
     "execution_count": 98,
     "metadata": {},
     "output_type": "execute_result"
    }
   ],
   "source": [
    "df_regularized_999999[df_regularized_999999['n'] == 999].groupby(['contextualVariable0', 'Type']).std()"
   ]
  },
  {
   "cell_type": "code",
   "execution_count": null,
   "metadata": {
    "id": "4m-q5pNjgADB"
   },
   "outputs": [],
   "source": []
  },
  {
   "cell_type": "markdown",
   "metadata": {
    "id": "PiejM5LSnOEu"
   },
   "source": [
    "# Swarm plots"
   ]
  },
  {
   "cell_type": "code",
   "execution_count": 99,
   "metadata": {
    "executionInfo": {
     "elapsed": 489,
     "status": "ok",
     "timestamp": 1604632199888,
     "user": {
      "displayName": "Zhihan Yang",
      "photoUrl": "",
      "userId": "13640957592474416801"
     },
     "user_tz": -480
    },
    "id": "LPWgs43VSC-U"
   },
   "outputs": [],
   "source": [
    "def calc_proportion_optimal_action(df, first_num_students):\n",
    "    mean =  df[:first_num_students]['MatchesOptimalExpectedAction'].mean()\n",
    "    return pd.DataFrame([[mean]], columns=['prop_optimal_action'])"
   ]
  },
  {
   "cell_type": "code",
   "execution_count": 100,
   "metadata": {
    "executionInfo": {
     "elapsed": 1118,
     "status": "ok",
     "timestamp": 1604632276581,
     "user": {
      "displayName": "Zhihan Yang",
      "photoUrl": "",
      "userId": "13640957592474416801"
     },
     "user_tz": -480
    },
    "id": "cCIPH-PCVKs2"
   },
   "outputs": [],
   "source": [
    "first_num_students = 250"
   ]
  },
  {
   "cell_type": "code",
   "execution_count": 117,
   "metadata": {
    "executionInfo": {
     "elapsed": 4290,
     "status": "ok",
     "timestamp": 1604632280818,
     "user": {
      "displayName": "Zhihan Yang",
      "photoUrl": "",
      "userId": "13640957592474416801"
     },
     "user_tz": -480
    },
    "id": "naaoyHMaAGY8"
   },
   "outputs": [],
   "source": [
    "df_poa = lambda1_reader.calc_df(partial(calc_proportion_optimal_action, first_num_students=first_num_students))\n",
    "df_lambda1t_poa = lambda1t_reader.calc_df(partial(calc_proportion_optimal_action, first_num_students=first_num_students))\n",
    "df_lambda1m_poa = lambda1m_reader.calc_df(partial(calc_proportion_optimal_action, first_num_students=first_num_students))\n"
   ]
  },
  {
   "cell_type": "code",
   "execution_count": 118,
   "metadata": {
    "colab": {
     "base_uri": "https://localhost:8080/"
    },
    "executionInfo": {
     "elapsed": 2271,
     "status": "ok",
     "timestamp": 1604632281070,
     "user": {
      "displayName": "Zhihan Yang",
      "photoUrl": "",
      "userId": "13640957592474416801"
     },
     "user_tz": -480
    },
    "id": "t2RM7UrVUWtz",
    "outputId": "eb2bc16b-37e0-44d4-d0cd-f874ac919d09"
   },
   "outputs": [
    {
     "name": "stderr",
     "output_type": "stream",
     "text": [
      "/home/yangz2/miniconda3/envs/mab/lib/python3.9/site-packages/pandas/core/indexing.py:1763: SettingWithCopyWarning: \n",
      "A value is trying to be set on a copy of a slice from a DataFrame.\n",
      "Try using .loc[row_indexer,col_indexer] = value instead\n",
      "\n",
      "See the caveats in the documentation: https://pandas.pydata.org/pandas-docs/stable/user_guide/indexing.html#returning-a-view-versus-a-copy\n",
      "  isetter(loc, value)\n"
     ]
    }
   ],
   "source": [
    "df1 = df_poa[df_poa['Type'] == 'Contextual']\n",
    "df1.loc[:,'Type'] = 'Contextual (Lambda = 1)'\n",
    "\n",
    "df2 = df_poa[df_poa['Type'] == 'Non Contextual']\n",
    "df2.loc[:,'Type'] = 'Non Contextual'\n",
    "\n",
    "df3 = df_lambda1t_poa[df_lambda1t_poa['Type'] == 'Contextual']\n",
    "df3.loc[:,'Type'] = 'Contextual (Lambda = 1000)'\n",
    "\n",
    "df4 = df_lambda1m_poa[df_lambda1m_poa['Type'] == 'Contextual']\n",
    "df4.loc[:,'Type'] = 'Contextual (Lambda = 1m)'\n",
    "\n",
    "df_all = pd.concat([df1, df2, df3, df4])"
   ]
  },
  {
   "cell_type": "code",
   "execution_count": 119,
   "metadata": {
    "colab": {
     "base_uri": "https://localhost:8080/"
    },
    "executionInfo": {
     "elapsed": 1385,
     "status": "ok",
     "timestamp": 1604632281414,
     "user": {
      "displayName": "Zhihan Yang",
      "photoUrl": "",
      "userId": "13640957592474416801"
     },
     "user_tz": -480
    },
    "id": "Qytzox8BV3Do",
    "outputId": "78b3cbec-8fbd-4d39-a7a7-d945343a417c"
   },
   "outputs": [
    {
     "data": {
      "text/plain": [
       "(4000, 2)"
      ]
     },
     "execution_count": 119,
     "metadata": {},
     "output_type": "execute_result"
    }
   ],
   "source": [
    "df_all.shape"
   ]
  },
  {
   "cell_type": "code",
   "execution_count": 128,
   "metadata": {},
   "outputs": [],
   "source": [
    "import warnings\n",
    "warnings.filterwarnings('ignore')"
   ]
  },
  {
   "cell_type": "code",
   "execution_count": 131,
   "metadata": {
    "colab": {
     "base_uri": "https://localhost:8080/",
     "height": 606
    },
    "executionInfo": {
     "elapsed": 11947,
     "status": "ok",
     "timestamp": 1604632292396,
     "user": {
      "displayName": "Zhihan Yang",
      "photoUrl": "",
      "userId": "13640957592474416801"
     },
     "user_tz": -480
    },
    "id": "rgW1ph7tgAw0",
    "outputId": "9692de4e-7ba0-4f5c-c0a2-f3ccebb51a6a"
   },
   "outputs": [
    {
     "data": {
      "image/png": "[encoded data removed]",
      "text/plain": [
       "<Figure size 504x504 with 1 Axes>"
      ]
     },
     "metadata": {
      "needs_background": "light"
     },
     "output_type": "display_data"
    }
   ],
   "source": [
    "fig = plt.figure(figsize=(7, 7))\n",
    "ax = fig.add_subplot(111)\n",
    "sns.swarmplot(\n",
    "    x='Type', y='prop_optimal_action',\n",
    "    data=df_all, \n",
    "    size=2.5,\n",
    "    ax=ax,\n",
    "    order=['Non Contextual','Contextual (Lambda = 1)','Contextual (Lambda = 1000)','Contextual (Lambda = 1m)' ]\n",
    ")\n",
    "plt.title('Swarm plot at num_students_seen=250')\n",
    "plt.ylabel('Proportion of optimal actions')\n",
    "plt.xticks(rotation=25)\n",
    "plt.tight_layout()\n",
    "plt.show()"
   ]
  },
  {
   "cell_type": "markdown",
   "metadata": {
    "id": "N165Oyz_ivsa"
   },
   "source": [
    "# Proportion of optimal actions over time horizon"
   ]
  },
  {
   "cell_type": "code",
   "execution_count": 26,
   "metadata": {
    "executionInfo": {
     "elapsed": 275,
     "status": "ok",
     "timestamp": 1604634927181,
     "user": {
      "displayName": "Zhihan Yang",
      "photoUrl": "",
      "userId": "13640957592474416801"
     },
     "user_tz": -480
    },
    "id": "SgIwyj_6iwRL"
   },
   "outputs": [],
   "source": [
    "def calc_poa_over_time(df):\n",
    "    poa_over_time = pd.DataFrame(df['MatchesOptimalExpectedAction'].expanding().mean())\n",
    "    poa_over_time.rename(columns = {'MatchesOptimalExpectedAction':'PropOptimalAction'}, inplace = True)\n",
    "    poa_over_time['num_students_seen'] = poa_over_time.index\n",
    "    return poa_over_time.iloc[99::50, :]"
   ]
  },
  {
   "cell_type": "code",
   "execution_count": 105,
   "metadata": {
    "executionInfo": {
     "elapsed": 12078,
     "status": "ok",
     "timestamp": 1604634940185,
     "user": {
      "displayName": "Zhihan Yang",
      "photoUrl": "",
      "userId": "13640957592474416801"
     },
     "user_tz": -480
    },
    "id": "PnKoXeZIme0i"
   },
   "outputs": [],
   "source": [
    "noncontextual_poa_over_time = lambda1_reader.calc_df(calc_poa_over_time, noncontextual_only=True)\n",
    "lambda1_poa_over_time = lambda1_reader.calc_df(calc_poa_over_time, contextual_only=True)\n",
    "lambda1t_poa_over_time = lambda1t_reader.calc_df(calc_poa_over_time, contextual_only=True)\n",
    "lambda1m_poa_over_time = lambda1m_reader.calc_df(calc_poa_over_time, contextual_only=True)"
   ]
  },
  {
   "cell_type": "markdown",
   "metadata": {},
   "source": [
    "## Median and percentiles"
   ]
  },
  {
   "cell_type": "code",
   "execution_count": 106,
   "metadata": {},
   "outputs": [],
   "source": [
    "xs = noncontextual_poa_over_time.groupby(\"num_students_seen\").median().index.to_numpy().flatten()\n",
    "\n",
    "ys_median = noncontextual_poa_over_time.groupby(\"num_students_seen\").median().to_numpy().flatten()\n",
    "ys_25 = noncontextual_poa_over_time.groupby(\"num_students_seen\").quantile(0.25).to_numpy().flatten()\n",
    "ys_75 = noncontextual_poa_over_time.groupby(\"num_students_seen\").quantile(0.75).to_numpy().flatten()\n",
    "\n",
    "ys_lambda1_median = lambda1_poa_over_time.groupby(\"num_students_seen\").median().to_numpy().flatten()\n",
    "ys_lambda1_25 = lambda1_poa_over_time.groupby(\"num_students_seen\").quantile(0.25).to_numpy().flatten()\n",
    "ys_lambda1_75 = lambda1_poa_over_time.groupby(\"num_students_seen\").quantile(0.75).to_numpy().flatten()\n",
    "\n",
    "ys_lambda1000_median = lambda1t_poa_over_time.groupby(\"num_students_seen\").median().to_numpy().flatten()\n",
    "ys_lambda1000_25 = lambda1t_poa_over_time.groupby(\"num_students_seen\").quantile(0.25).to_numpy().flatten()\n",
    "ys_lambda1000_75 = lambda1t_poa_over_time.groupby(\"num_students_seen\").quantile(0.75).to_numpy().flatten()\n",
    "\n",
    "ys_lambda1m_median = lambda1m_poa_over_time.groupby(\"num_students_seen\").median().to_numpy().flatten()\n",
    "ys_lambda1m_25 = lambda1m_poa_over_time.groupby(\"num_students_seen\").quantile(0.25).to_numpy().flatten()\n",
    "ys_lambda1m_75 = lambda1m_poa_over_time.groupby(\"num_students_seen\").quantile(0.75).to_numpy().flatten()"
   ]
  },
  {
   "cell_type": "code",
   "execution_count": 143,
   "metadata": {},
   "outputs": [
    {
     "data": {
      "image/png": "[encoded data removed]",
      "text/plain": [
       "<Figure size 504x504 with 1 Axes>"
      ]
     },
     "metadata": {
      "needs_background": "light"
     },
     "output_type": "display_data"
    }
   ],
   "source": [
    "fig = plt.figure(figsize=(7, 7))\n",
    "\n",
    "ax = fig.add_subplot(111)\n",
    "\n",
    "plt.plot(xs, ys_median, label='noncontextual')\n",
    "plt.fill_between(xs, ys_25, ys_75, alpha=0.25)\n",
    "\n",
    "plt.plot(xs, ys_lambda1_median, label='lambda=1')\n",
    "plt.fill_between(xs, ys_lambda1_25, ys_lambda1_75, alpha=0.25)\n",
    "\n",
    "plt.plot(xs, ys_lambda1000_median, label='lambda=1000')\n",
    "plt.fill_between(xs, ys_lambda1000_25, ys_lambda1000_75, alpha=0.25)\n",
    "\n",
    "plt.plot(xs, ys_lambda1m_median, label='lambda=1m')\n",
    "plt.fill_between(xs, ys_lambda1m_25, ys_lambda1m_75, alpha=0.25)\n",
    "\n",
    "plt.xlabel('Number of students seen')\n",
    "plt.ylabel('Proportion of optimal action')\n",
    "plt.legend(loc='lower right')\n",
    "\n",
    "plt.grid()\n",
    "plt.ylim(0.45, 1.05)\n",
    "\n",
    "plt.title('Median & Percentiles')\n",
    "plt.tight_layout()\n",
    "plt.show()"
   ]
  },
  {
   "cell_type": "markdown",
   "metadata": {},
   "source": [
    "## Mean and std"
   ]
  },
  {
   "cell_type": "code",
   "execution_count": 142,
   "metadata": {
    "colab": {
     "base_uri": "https://localhost:8080/",
     "height": 502
    },
    "executionInfo": {
     "elapsed": 6434,
     "status": "ok",
     "timestamp": 1604635119617,
     "user": {
      "displayName": "Zhihan Yang",
      "photoUrl": "",
      "userId": "13640957592474416801"
     },
     "user_tz": -480
    },
    "id": "i_F8yDIVmoeV",
    "outputId": "c6034ac7-f885-4a8c-98da-71035b514ad4"
   },
   "outputs": [
    {
     "data": {
      "image/png": "[encoded data removed]",
      "text/plain": [
       "<Figure size 504x504 with 1 Axes>"
      ]
     },
     "metadata": {
      "needs_background": "light"
     },
     "output_type": "display_data"
    }
   ],
   "source": [
    "fig = plt.figure(figsize=(7, 7))\n",
    "\n",
    "ax = fig.add_subplot(111)\n",
    "\n",
    "sns.lineplot(x=\"num_students_seen\", y=\"PropOptimalAction\",\n",
    "             data=noncontextual_poa_over_time, ci='sd', label='Non-contextual', ax=ax)\n",
    "\n",
    "sns.lineplot(x=\"num_students_seen\", y=\"PropOptimalAction\",\n",
    "             data=lambda1_poa_over_time, ci='sd', label='Lambda=1', ax=ax)\n",
    "sns.lineplot(x=\"num_students_seen\", y=\"PropOptimalAction\",\n",
    "             data=lambda1t_poa_over_time, ci='sd', label='Lambda=1000', ax=ax)\n",
    "sns.lineplot(x=\"num_students_seen\", y=\"PropOptimalAction\",\n",
    "             data=lambda1m_poa_over_time, ci='sd', label='Lambda=1m', ax=ax)\n",
    "\n",
    "plt.legend(loc='lower right')\n",
    "plt.xlabel('Number of students seen')\n",
    "plt.ylabel('Proportion of optimal actions')\n",
    "plt.title('Mean & Std')\n",
    "\n",
    "plt.ylim(0.45, 1.05)\n",
    "\n",
    "plt.grid()\n",
    "plt.show()"
   ]
  },
  {
   "cell_type": "markdown",
   "metadata": {
    "id": "erLiV5r0nUrO"
   },
   "source": [
    "# Coefficient plot for each arm"
   ]
  },
  {
   "cell_type": "code",
   "execution_count": 153,
   "metadata": {
    "executionInfo": {
     "elapsed": 1114,
     "status": "ok",
     "timestamp": 1604632304898,
     "user": {
      "displayName": "Zhihan Yang",
      "photoUrl": "",
      "userId": "13640957592474416801"
     },
     "user_tz": -480
    },
    "id": "PKMdu96pnXM8"
   },
   "outputs": [],
   "source": [
    "arm1_true = [-0.4054651081081643, 0, 0.8109302162163285, 0, 0, 0, 0, 0, 0, 0, 0]\n",
    "arm2_true = [0.4054651081081642, 0, -0.8109302162163285, 0, 0, 0, 0, 0, 0, 0, 0]"
   ]
  },
  {
   "cell_type": "code",
   "execution_count": 154,
   "metadata": {
    "executionInfo": {
     "elapsed": 475,
     "status": "ok",
     "timestamp": 1604632304903,
     "user": {
      "displayName": "Zhihan Yang",
      "photoUrl": "",
      "userId": "13640957592474416801"
     },
     "user_tz": -480
    },
    "id": "lAZbRoLYoVd1"
   },
   "outputs": [],
   "source": [
    "def grab_final_coeff(df):\n",
    "\n",
    "    last_student = df[-1:]\n",
    "\n",
    "    arm1_coeffs = []\n",
    "    for coeff_idx, coeff_val in enumerate(list(map(float, last_student['Action1EstimatedMu'].tolist()[0].split(',')))):\n",
    "        arm1_coeffs.append([coeff_idx, coeff_val])\n",
    "    arm1_coeffs = pd.DataFrame(arm1_coeffs, columns=['coeff_idx', 'coeff_val'])\n",
    "    arm1_coeffs['arm_idx'] = 1\n",
    "\n",
    "    arm2_coeffs = []\n",
    "    for coeff_idx, coeff_val in enumerate(list(map(float, last_student['Action2EstimatedMu'].tolist()[0].split(',')))):\n",
    "        arm2_coeffs.append([coeff_idx, coeff_val])\n",
    "    arm2_coeffs = pd.DataFrame(arm2_coeffs, columns=['coeff_idx', 'coeff_val'])\n",
    "    arm2_coeffs['arm_idx'] = 2\n",
    "\n",
    "    return pd.concat([arm1_coeffs, arm2_coeffs])"
   ]
  },
  {
   "cell_type": "code",
   "execution_count": 156,
   "metadata": {
    "executionInfo": {
     "elapsed": 7722,
     "status": "ok",
     "timestamp": 1604632328782,
     "user": {
      "displayName": "Zhihan Yang",
      "photoUrl": "",
      "userId": "13640957592474416801"
     },
     "user_tz": -480
    },
    "id": "O8hGyveCsaYj"
   },
   "outputs": [],
   "source": [
    "df_coeff = lambda1_reader.calc_df(grab_final_coeff, contextual_only=True)"
   ]
  },
  {
   "cell_type": "code",
   "execution_count": 157,
   "metadata": {
    "executionInfo": {
     "elapsed": 5467,
     "status": "ok",
     "timestamp": 1604632343358,
     "user": {
      "displayName": "Zhihan Yang",
      "photoUrl": "",
      "userId": "13640957592474416801"
     },
     "user_tz": -480
    },
    "id": "V_A1fexpsTai"
   },
   "outputs": [],
   "source": [
    "df_regularized_coeff = lambda1t_reader.calc_df(grab_final_coeff, contextual_only=True)"
   ]
  },
  {
   "cell_type": "code",
   "execution_count": 158,
   "metadata": {
    "executionInfo": {
     "elapsed": 756,
     "status": "ok",
     "timestamp": 1604632345690,
     "user": {
      "displayName": "Zhihan Yang",
      "photoUrl": "",
      "userId": "13640957592474416801"
     },
     "user_tz": -480
    },
    "id": "MM7uNza4s-62"
   },
   "outputs": [],
   "source": [
    "df_coeff['lambda'] = 1\n",
    "df_regularized_coeff['lambda'] = 1000\n",
    "df_both_coeff = pd.concat([df_coeff, df_regularized_coeff])"
   ]
  },
  {
   "cell_type": "code",
   "execution_count": 159,
   "metadata": {
    "colab": {
     "base_uri": "https://localhost:8080/",
     "height": 501
    },
    "executionInfo": {
     "elapsed": 5360,
     "status": "ok",
     "timestamp": 1604632353784,
     "user": {
      "displayName": "Zhihan Yang",
      "photoUrl": "",
      "userId": "13640957592474416801"
     },
     "user_tz": -480
    },
    "id": "EbBtTIgQoREv",
    "outputId": "ccd6888d-bbd2-4137-a1c3-3df3a1aed9ac"
   },
   "outputs": [
    {
     "data": {
      "image/png": "[encoded data removed]",
      "text/plain": [
       "<Figure size 1213.5x576 with 2 Axes>"
      ]
     },
     "metadata": {
      "needs_background": "light",
      "tags": []
     },
     "output_type": "display_data"
    }
   ],
   "source": [
    "g = sns.catplot(x=\"coeff_idx\", y=\"coeff_val\",\n",
    "                hue=\"lambda\", col=\"arm_idx\",\n",
    "                data=df_both_coeff, kind=\"bar\",\n",
    "                height=8, aspect=1);"
   ]
  },
  {
   "cell_type": "code",
   "execution_count": null,
   "metadata": {
    "id": "F5KUwQIUoTg-"
   },
   "outputs": [],
   "source": []
  }
 ],
 "metadata": {
  "colab": {
   "collapsed_sections": [],
   "name": "Regularization.ipynb",
   "provenance": [
    {
     "file_id": "1xmXDN_mXk3v-exIVcw__p6qdNJuSpOgE",
     "timestamp": 1603791595512
    }
   ]
  },
  "kernelspec": {
   "display_name": "Python 3",
   "language": "python",
   "name": "python3"
  },
  "language_info": {
   "codemirror_mode": {
    "name": "ipython",
    "version": 3
   },
   "file_extension": ".py",
   "mimetype": "text/x-python",
   "name": "python",
   "nbconvert_exporter": "python",
   "pygments_lexer": "ipython3",
   "version": "3.9.0"
  },
  "toc": {
   "base_numbering": 1,
   "nav_menu": {},
   "number_sections": true,
   "sideBar": true,
   "skip_h1_title": false,
   "title_cell": "Table of Contents",
   "title_sidebar": "Contents",
   "toc_cell": false,
   "toc_position": {
    "height": "calc(100% - 180px)",
    "left": "10px",
    "top": "150px",
    "width": "320px"
   },
   "toc_section_display": true,
   "toc_window_display": true
  },
  "varInspector": {
   "cols": {
    "lenName": 16,
    "lenType": 16,
    "lenVar": 40
   },
   "kernels_config": {
    "python": {
     "delete_cmd_postfix": "",
     "delete_cmd_prefix": "del ",
     "library": "var_list.py",
     "varRefreshCmd": "print(var_dic_list())"
    },
    "r": {
     "delete_cmd_postfix": ") ",
     "delete_cmd_prefix": "rm(",
     "library": "var_list.r",
     "varRefreshCmd": "cat(var_dic_list()) "
    }
   },
   "types_to_exclude": [
    "module",
    "function",
    "builtin_function_or_method",
    "instance",
    "_Feature"
   ],
   "window_display": false
  }
 },
 "nbformat": 4,
 "nbformat_minor": 1
}
